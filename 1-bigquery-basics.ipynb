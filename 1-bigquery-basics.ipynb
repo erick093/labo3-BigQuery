{
 "cells": [
  {
   "cell_type": "markdown",
   "source": [
    "# BigQuery Basics"
   ],
   "metadata": {
    "collapsed": false,
    "pycharm": {
     "name": "#%% md\n"
    }
   }
  },
  {
   "cell_type": "markdown",
   "source": [
    "BigQuery is a petabyte-scale analytics data warehouse that you can use to run SQL queries over vast amounts of data in near realtime. This page shows you how to get started with the Google BigQuery API using the Python client library."
   ],
   "metadata": {
    "collapsed": false,
    "pycharm": {
     "name": "#%% md\n"
    }
   }
  },
  {
   "cell_type": "markdown",
   "source": [
    "## Importando librerías"
   ],
   "metadata": {
    "collapsed": false,
    "pycharm": {
     "name": "#%% md\n"
    }
   }
  },
  {
   "cell_type": "code",
   "execution_count": 24,
   "outputs": [
    {
     "name": "stdout",
     "output_type": "stream",
     "text": [
      "Requirement already satisfied: google-cloud-bigquery in /Users/eescobar/opt/anaconda3/envs/labo3-BigQuery/lib/python3.10/site-packages (3.4.0)\r\n",
      "Requirement already satisfied: google-cloud-bigquery-storage<3.0.0dev,>=2.0.0 in /Users/eescobar/opt/anaconda3/envs/labo3-BigQuery/lib/python3.10/site-packages (from google-cloud-bigquery) (2.16.2)\r\n",
      "Requirement already satisfied: google-resumable-media<3.0dev,>=0.6.0 in /Users/eescobar/opt/anaconda3/envs/labo3-BigQuery/lib/python3.10/site-packages (from google-cloud-bigquery) (2.4.0)\r\n",
      "Requirement already satisfied: protobuf!=3.20.0,!=3.20.1,!=4.21.0,!=4.21.1,!=4.21.2,!=4.21.3,!=4.21.4,!=4.21.5,<5.0.0dev,>=3.19.5 in /Users/eescobar/opt/anaconda3/envs/labo3-BigQuery/lib/python3.10/site-packages (from google-cloud-bigquery) (4.21.9)\r\n",
      "Requirement already satisfied: packaging<22.0.0dev,>=14.3 in /Users/eescobar/opt/anaconda3/envs/labo3-BigQuery/lib/python3.10/site-packages (from google-cloud-bigquery) (21.3)\r\n",
      "Requirement already satisfied: requests<3.0.0dev,>=2.21.0 in /Users/eescobar/opt/anaconda3/envs/labo3-BigQuery/lib/python3.10/site-packages (from google-cloud-bigquery) (2.28.1)\r\n",
      "Requirement already satisfied: proto-plus<2.0.0dev,>=1.22.0 in /Users/eescobar/opt/anaconda3/envs/labo3-BigQuery/lib/python3.10/site-packages (from google-cloud-bigquery) (1.22.1)\r\n",
      "Requirement already satisfied: google-api-core[grpc]!=2.0.*,!=2.1.*,!=2.2.*,!=2.3.0,<3.0.0dev,>=1.31.5 in /Users/eescobar/opt/anaconda3/envs/labo3-BigQuery/lib/python3.10/site-packages (from google-cloud-bigquery) (2.10.2)\r\n",
      "Requirement already satisfied: grpcio<2.0dev,>=1.47.0 in /Users/eescobar/opt/anaconda3/envs/labo3-BigQuery/lib/python3.10/site-packages (from google-cloud-bigquery) (1.50.0)\r\n",
      "Requirement already satisfied: python-dateutil<3.0dev,>=2.7.2 in /Users/eescobar/opt/anaconda3/envs/labo3-BigQuery/lib/python3.10/site-packages (from google-cloud-bigquery) (2.8.2)\r\n",
      "Requirement already satisfied: pyarrow<11.0dev,>=3.0.0 in /Users/eescobar/opt/anaconda3/envs/labo3-BigQuery/lib/python3.10/site-packages (from google-cloud-bigquery) (9.0.0)\r\n",
      "Requirement already satisfied: google-cloud-core<3.0.0dev,>=1.4.1 in /Users/eescobar/opt/anaconda3/envs/labo3-BigQuery/lib/python3.10/site-packages (from google-cloud-bigquery) (2.3.2)\r\n",
      "Requirement already satisfied: google-auth<3.0dev,>=1.25.0 in /Users/eescobar/opt/anaconda3/envs/labo3-BigQuery/lib/python3.10/site-packages (from google-api-core[grpc]!=2.0.*,!=2.1.*,!=2.2.*,!=2.3.0,<3.0.0dev,>=1.31.5->google-cloud-bigquery) (2.14.1)\r\n",
      "Requirement already satisfied: googleapis-common-protos<2.0dev,>=1.56.2 in /Users/eescobar/opt/anaconda3/envs/labo3-BigQuery/lib/python3.10/site-packages (from google-api-core[grpc]!=2.0.*,!=2.1.*,!=2.2.*,!=2.3.0,<3.0.0dev,>=1.31.5->google-cloud-bigquery) (1.57.0)\r\n",
      "Requirement already satisfied: grpcio-status<2.0dev,>=1.33.2 in /Users/eescobar/opt/anaconda3/envs/labo3-BigQuery/lib/python3.10/site-packages (from google-api-core[grpc]!=2.0.*,!=2.1.*,!=2.2.*,!=2.3.0,<3.0.0dev,>=1.31.5->google-cloud-bigquery) (1.50.0)\r\n",
      "Requirement already satisfied: google-crc32c<2.0dev,>=1.0 in /Users/eescobar/opt/anaconda3/envs/labo3-BigQuery/lib/python3.10/site-packages (from google-resumable-media<3.0dev,>=0.6.0->google-cloud-bigquery) (1.5.0)\r\n",
      "Requirement already satisfied: six>=1.5.2 in /Users/eescobar/opt/anaconda3/envs/labo3-BigQuery/lib/python3.10/site-packages (from grpcio<2.0dev,>=1.47.0->google-cloud-bigquery) (1.16.0)\r\n",
      "Requirement already satisfied: pyparsing!=3.0.5,>=2.0.2 in /Users/eescobar/opt/anaconda3/envs/labo3-BigQuery/lib/python3.10/site-packages (from packaging<22.0.0dev,>=14.3->google-cloud-bigquery) (3.0.9)\r\n",
      "Requirement already satisfied: numpy>=1.16.6 in /Users/eescobar/opt/anaconda3/envs/labo3-BigQuery/lib/python3.10/site-packages (from pyarrow<11.0dev,>=3.0.0->google-cloud-bigquery) (1.23.4)\r\n",
      "Requirement already satisfied: certifi>=2017.4.17 in /Users/eescobar/opt/anaconda3/envs/labo3-BigQuery/lib/python3.10/site-packages (from requests<3.0.0dev,>=2.21.0->google-cloud-bigquery) (2022.9.24)\r\n",
      "Requirement already satisfied: idna<4,>=2.5 in /Users/eescobar/opt/anaconda3/envs/labo3-BigQuery/lib/python3.10/site-packages (from requests<3.0.0dev,>=2.21.0->google-cloud-bigquery) (3.4)\r\n",
      "Requirement already satisfied: urllib3<1.27,>=1.21.1 in /Users/eescobar/opt/anaconda3/envs/labo3-BigQuery/lib/python3.10/site-packages (from requests<3.0.0dev,>=2.21.0->google-cloud-bigquery) (1.26.12)\r\n",
      "Requirement already satisfied: charset-normalizer<3,>=2 in /Users/eescobar/opt/anaconda3/envs/labo3-BigQuery/lib/python3.10/site-packages (from requests<3.0.0dev,>=2.21.0->google-cloud-bigquery) (2.0.4)\r\n",
      "Requirement already satisfied: pyasn1-modules>=0.2.1 in /Users/eescobar/opt/anaconda3/envs/labo3-BigQuery/lib/python3.10/site-packages (from google-auth<3.0dev,>=1.25.0->google-api-core[grpc]!=2.0.*,!=2.1.*,!=2.2.*,!=2.3.0,<3.0.0dev,>=1.31.5->google-cloud-bigquery) (0.2.8)\r\n",
      "Requirement already satisfied: cachetools<6.0,>=2.0.0 in /Users/eescobar/opt/anaconda3/envs/labo3-BigQuery/lib/python3.10/site-packages (from google-auth<3.0dev,>=1.25.0->google-api-core[grpc]!=2.0.*,!=2.1.*,!=2.2.*,!=2.3.0,<3.0.0dev,>=1.31.5->google-cloud-bigquery) (5.2.0)\r\n",
      "Requirement already satisfied: rsa<5,>=3.1.4 in /Users/eescobar/opt/anaconda3/envs/labo3-BigQuery/lib/python3.10/site-packages (from google-auth<3.0dev,>=1.25.0->google-api-core[grpc]!=2.0.*,!=2.1.*,!=2.2.*,!=2.3.0,<3.0.0dev,>=1.31.5->google-cloud-bigquery) (4.9)\r\n",
      "Requirement already satisfied: pyasn1<0.5.0,>=0.4.6 in /Users/eescobar/opt/anaconda3/envs/labo3-BigQuery/lib/python3.10/site-packages (from pyasn1-modules>=0.2.1->google-auth<3.0dev,>=1.25.0->google-api-core[grpc]!=2.0.*,!=2.1.*,!=2.2.*,!=2.3.0,<3.0.0dev,>=1.31.5->google-cloud-bigquery) (0.4.8)\r\n",
      "Requirement already satisfied: google-cloud-storage in /Users/eescobar/opt/anaconda3/envs/labo3-BigQuery/lib/python3.10/site-packages (2.6.0)\r\n",
      "Requirement already satisfied: google-auth<3.0dev,>=1.25.0 in /Users/eescobar/opt/anaconda3/envs/labo3-BigQuery/lib/python3.10/site-packages (from google-cloud-storage) (2.14.1)\r\n",
      "Requirement already satisfied: google-resumable-media>=2.3.2 in /Users/eescobar/opt/anaconda3/envs/labo3-BigQuery/lib/python3.10/site-packages (from google-cloud-storage) (2.4.0)\r\n",
      "Requirement already satisfied: requests<3.0.0dev,>=2.18.0 in /Users/eescobar/opt/anaconda3/envs/labo3-BigQuery/lib/python3.10/site-packages (from google-cloud-storage) (2.28.1)\r\n",
      "Requirement already satisfied: google-api-core!=2.0.*,!=2.1.*,!=2.2.*,!=2.3.0,<3.0.0dev,>=1.31.5 in /Users/eescobar/opt/anaconda3/envs/labo3-BigQuery/lib/python3.10/site-packages (from google-cloud-storage) (2.10.2)\r\n",
      "Requirement already satisfied: google-cloud-core<3.0dev,>=2.3.0 in /Users/eescobar/opt/anaconda3/envs/labo3-BigQuery/lib/python3.10/site-packages (from google-cloud-storage) (2.3.2)\r\n",
      "Requirement already satisfied: googleapis-common-protos<2.0dev,>=1.56.2 in /Users/eescobar/opt/anaconda3/envs/labo3-BigQuery/lib/python3.10/site-packages (from google-api-core!=2.0.*,!=2.1.*,!=2.2.*,!=2.3.0,<3.0.0dev,>=1.31.5->google-cloud-storage) (1.57.0)\r\n",
      "Requirement already satisfied: protobuf!=3.20.0,!=3.20.1,!=4.21.0,!=4.21.1,!=4.21.2,!=4.21.3,!=4.21.4,!=4.21.5,<5.0.0dev,>=3.19.5 in /Users/eescobar/opt/anaconda3/envs/labo3-BigQuery/lib/python3.10/site-packages (from google-api-core!=2.0.*,!=2.1.*,!=2.2.*,!=2.3.0,<3.0.0dev,>=1.31.5->google-cloud-storage) (4.21.9)\r\n",
      "Requirement already satisfied: rsa<5,>=3.1.4 in /Users/eescobar/opt/anaconda3/envs/labo3-BigQuery/lib/python3.10/site-packages (from google-auth<3.0dev,>=1.25.0->google-cloud-storage) (4.9)\r\n",
      "Requirement already satisfied: six>=1.9.0 in /Users/eescobar/opt/anaconda3/envs/labo3-BigQuery/lib/python3.10/site-packages (from google-auth<3.0dev,>=1.25.0->google-cloud-storage) (1.16.0)\r\n",
      "Requirement already satisfied: cachetools<6.0,>=2.0.0 in /Users/eescobar/opt/anaconda3/envs/labo3-BigQuery/lib/python3.10/site-packages (from google-auth<3.0dev,>=1.25.0->google-cloud-storage) (5.2.0)\r\n",
      "Requirement already satisfied: pyasn1-modules>=0.2.1 in /Users/eescobar/opt/anaconda3/envs/labo3-BigQuery/lib/python3.10/site-packages (from google-auth<3.0dev,>=1.25.0->google-cloud-storage) (0.2.8)\r\n",
      "Requirement already satisfied: google-crc32c<2.0dev,>=1.0 in /Users/eescobar/opt/anaconda3/envs/labo3-BigQuery/lib/python3.10/site-packages (from google-resumable-media>=2.3.2->google-cloud-storage) (1.5.0)\r\n",
      "Requirement already satisfied: charset-normalizer<3,>=2 in /Users/eescobar/opt/anaconda3/envs/labo3-BigQuery/lib/python3.10/site-packages (from requests<3.0.0dev,>=2.18.0->google-cloud-storage) (2.0.4)\r\n",
      "Requirement already satisfied: certifi>=2017.4.17 in /Users/eescobar/opt/anaconda3/envs/labo3-BigQuery/lib/python3.10/site-packages (from requests<3.0.0dev,>=2.18.0->google-cloud-storage) (2022.9.24)\r\n",
      "Requirement already satisfied: idna<4,>=2.5 in /Users/eescobar/opt/anaconda3/envs/labo3-BigQuery/lib/python3.10/site-packages (from requests<3.0.0dev,>=2.18.0->google-cloud-storage) (3.4)\r\n",
      "Requirement already satisfied: urllib3<1.27,>=1.21.1 in /Users/eescobar/opt/anaconda3/envs/labo3-BigQuery/lib/python3.10/site-packages (from requests<3.0.0dev,>=2.18.0->google-cloud-storage) (1.26.12)\r\n",
      "Requirement already satisfied: pyasn1<0.5.0,>=0.4.6 in /Users/eescobar/opt/anaconda3/envs/labo3-BigQuery/lib/python3.10/site-packages (from pyasn1-modules>=0.2.1->google-auth<3.0dev,>=1.25.0->google-cloud-storage) (0.4.8)\r\n",
      "Requirement already satisfied: pandas-gbq in /Users/eescobar/opt/anaconda3/envs/labo3-BigQuery/lib/python3.10/site-packages (0.17.9)\r\n",
      "Requirement already satisfied: setuptools in /Users/eescobar/opt/anaconda3/envs/labo3-BigQuery/lib/python3.10/site-packages (from pandas-gbq) (65.5.0)\r\n",
      "Requirement already satisfied: google-cloud-bigquery!=2.4.*,<4.0.0dev,>=1.27.2 in /Users/eescobar/opt/anaconda3/envs/labo3-BigQuery/lib/python3.10/site-packages (from pandas-gbq) (3.4.0)\r\n",
      "Requirement already satisfied: pandas>=0.24.2 in /Users/eescobar/opt/anaconda3/envs/labo3-BigQuery/lib/python3.10/site-packages (from pandas-gbq) (1.5.1)\r\n",
      "Requirement already satisfied: google-api-core!=2.0.*,!=2.1.*,!=2.2.*,!=2.3.0,<3.0.0dev,>=1.31.5 in /Users/eescobar/opt/anaconda3/envs/labo3-BigQuery/lib/python3.10/site-packages (from pandas-gbq) (2.10.2)\r\n",
      "Requirement already satisfied: google-auth-oauthlib>=0.0.1 in /Users/eescobar/opt/anaconda3/envs/labo3-BigQuery/lib/python3.10/site-packages (from pandas-gbq) (0.7.1)\r\n",
      "Requirement already satisfied: db-dtypes<2.0.0,>=0.3.1 in /Users/eescobar/opt/anaconda3/envs/labo3-BigQuery/lib/python3.10/site-packages (from pandas-gbq) (1.0.4)\r\n",
      "Requirement already satisfied: google-cloud-bigquery-storage<3.0.0dev,>=1.1.0 in /Users/eescobar/opt/anaconda3/envs/labo3-BigQuery/lib/python3.10/site-packages (from pandas-gbq) (2.16.2)\r\n",
      "Requirement already satisfied: numpy>=1.16.6 in /Users/eescobar/opt/anaconda3/envs/labo3-BigQuery/lib/python3.10/site-packages (from pandas-gbq) (1.23.4)\r\n",
      "Requirement already satisfied: pydata-google-auth in /Users/eescobar/opt/anaconda3/envs/labo3-BigQuery/lib/python3.10/site-packages (from pandas-gbq) (1.4.0)\r\n",
      "Requirement already satisfied: google-auth>=1.25.0 in /Users/eescobar/opt/anaconda3/envs/labo3-BigQuery/lib/python3.10/site-packages (from pandas-gbq) (2.14.1)\r\n",
      "Requirement already satisfied: pyarrow<10.0dev,>=3.0.0 in /Users/eescobar/opt/anaconda3/envs/labo3-BigQuery/lib/python3.10/site-packages (from pandas-gbq) (9.0.0)\r\n",
      "Requirement already satisfied: packaging>=17.0 in /Users/eescobar/opt/anaconda3/envs/labo3-BigQuery/lib/python3.10/site-packages (from db-dtypes<2.0.0,>=0.3.1->pandas-gbq) (21.3)\r\n",
      "Requirement already satisfied: requests<3.0.0dev,>=2.18.0 in /Users/eescobar/opt/anaconda3/envs/labo3-BigQuery/lib/python3.10/site-packages (from google-api-core!=2.0.*,!=2.1.*,!=2.2.*,!=2.3.0,<3.0.0dev,>=1.31.5->pandas-gbq) (2.28.1)\r\n",
      "Requirement already satisfied: protobuf!=3.20.0,!=3.20.1,!=4.21.0,!=4.21.1,!=4.21.2,!=4.21.3,!=4.21.4,!=4.21.5,<5.0.0dev,>=3.19.5 in /Users/eescobar/opt/anaconda3/envs/labo3-BigQuery/lib/python3.10/site-packages (from google-api-core!=2.0.*,!=2.1.*,!=2.2.*,!=2.3.0,<3.0.0dev,>=1.31.5->pandas-gbq) (4.21.9)\r\n",
      "Requirement already satisfied: googleapis-common-protos<2.0dev,>=1.56.2 in /Users/eescobar/opt/anaconda3/envs/labo3-BigQuery/lib/python3.10/site-packages (from google-api-core!=2.0.*,!=2.1.*,!=2.2.*,!=2.3.0,<3.0.0dev,>=1.31.5->pandas-gbq) (1.57.0)\r\n",
      "Requirement already satisfied: cachetools<6.0,>=2.0.0 in /Users/eescobar/opt/anaconda3/envs/labo3-BigQuery/lib/python3.10/site-packages (from google-auth>=1.25.0->pandas-gbq) (5.2.0)\r\n",
      "Requirement already satisfied: pyasn1-modules>=0.2.1 in /Users/eescobar/opt/anaconda3/envs/labo3-BigQuery/lib/python3.10/site-packages (from google-auth>=1.25.0->pandas-gbq) (0.2.8)\r\n",
      "Requirement already satisfied: six>=1.9.0 in /Users/eescobar/opt/anaconda3/envs/labo3-BigQuery/lib/python3.10/site-packages (from google-auth>=1.25.0->pandas-gbq) (1.16.0)\r\n",
      "Requirement already satisfied: rsa<5,>=3.1.4 in /Users/eescobar/opt/anaconda3/envs/labo3-BigQuery/lib/python3.10/site-packages (from google-auth>=1.25.0->pandas-gbq) (4.9)\r\n",
      "Requirement already satisfied: requests-oauthlib>=0.7.0 in /Users/eescobar/opt/anaconda3/envs/labo3-BigQuery/lib/python3.10/site-packages (from google-auth-oauthlib>=0.0.1->pandas-gbq) (1.3.1)\r\n",
      "Requirement already satisfied: grpcio<2.0dev,>=1.47.0 in /Users/eescobar/opt/anaconda3/envs/labo3-BigQuery/lib/python3.10/site-packages (from google-cloud-bigquery!=2.4.*,<4.0.0dev,>=1.27.2->pandas-gbq) (1.50.0)\r\n",
      "Requirement already satisfied: google-cloud-core<3.0.0dev,>=1.4.1 in /Users/eescobar/opt/anaconda3/envs/labo3-BigQuery/lib/python3.10/site-packages (from google-cloud-bigquery!=2.4.*,<4.0.0dev,>=1.27.2->pandas-gbq) (2.3.2)\r\n",
      "Requirement already satisfied: google-resumable-media<3.0dev,>=0.6.0 in /Users/eescobar/opt/anaconda3/envs/labo3-BigQuery/lib/python3.10/site-packages (from google-cloud-bigquery!=2.4.*,<4.0.0dev,>=1.27.2->pandas-gbq) (2.4.0)\r\n",
      "Requirement already satisfied: proto-plus<2.0.0dev,>=1.22.0 in /Users/eescobar/opt/anaconda3/envs/labo3-BigQuery/lib/python3.10/site-packages (from google-cloud-bigquery!=2.4.*,<4.0.0dev,>=1.27.2->pandas-gbq) (1.22.1)\r\n",
      "Requirement already satisfied: python-dateutil<3.0dev,>=2.7.2 in /Users/eescobar/opt/anaconda3/envs/labo3-BigQuery/lib/python3.10/site-packages (from google-cloud-bigquery!=2.4.*,<4.0.0dev,>=1.27.2->pandas-gbq) (2.8.2)\r\n",
      "Requirement already satisfied: pytz>=2020.1 in /Users/eescobar/opt/anaconda3/envs/labo3-BigQuery/lib/python3.10/site-packages (from pandas>=0.24.2->pandas-gbq) (2022.1)\r\n",
      "Requirement already satisfied: grpcio-status<2.0dev,>=1.33.2 in /Users/eescobar/opt/anaconda3/envs/labo3-BigQuery/lib/python3.10/site-packages (from google-api-core!=2.0.*,!=2.1.*,!=2.2.*,!=2.3.0,<3.0.0dev,>=1.31.5->pandas-gbq) (1.50.0)\r\n",
      "Requirement already satisfied: google-crc32c<2.0dev,>=1.0 in /Users/eescobar/opt/anaconda3/envs/labo3-BigQuery/lib/python3.10/site-packages (from google-resumable-media<3.0dev,>=0.6.0->google-cloud-bigquery!=2.4.*,<4.0.0dev,>=1.27.2->pandas-gbq) (1.5.0)\r\n",
      "Requirement already satisfied: pyparsing!=3.0.5,>=2.0.2 in /Users/eescobar/opt/anaconda3/envs/labo3-BigQuery/lib/python3.10/site-packages (from packaging>=17.0->db-dtypes<2.0.0,>=0.3.1->pandas-gbq) (3.0.9)\r\n",
      "Requirement already satisfied: pyasn1<0.5.0,>=0.4.6 in /Users/eescobar/opt/anaconda3/envs/labo3-BigQuery/lib/python3.10/site-packages (from pyasn1-modules>=0.2.1->google-auth>=1.25.0->pandas-gbq) (0.4.8)\r\n",
      "Requirement already satisfied: idna<4,>=2.5 in /Users/eescobar/opt/anaconda3/envs/labo3-BigQuery/lib/python3.10/site-packages (from requests<3.0.0dev,>=2.18.0->google-api-core!=2.0.*,!=2.1.*,!=2.2.*,!=2.3.0,<3.0.0dev,>=1.31.5->pandas-gbq) (3.4)\r\n",
      "Requirement already satisfied: charset-normalizer<3,>=2 in /Users/eescobar/opt/anaconda3/envs/labo3-BigQuery/lib/python3.10/site-packages (from requests<3.0.0dev,>=2.18.0->google-api-core!=2.0.*,!=2.1.*,!=2.2.*,!=2.3.0,<3.0.0dev,>=1.31.5->pandas-gbq) (2.0.4)\r\n",
      "Requirement already satisfied: urllib3<1.27,>=1.21.1 in /Users/eescobar/opt/anaconda3/envs/labo3-BigQuery/lib/python3.10/site-packages (from requests<3.0.0dev,>=2.18.0->google-api-core!=2.0.*,!=2.1.*,!=2.2.*,!=2.3.0,<3.0.0dev,>=1.31.5->pandas-gbq) (1.26.12)\r\n",
      "Requirement already satisfied: certifi>=2017.4.17 in /Users/eescobar/opt/anaconda3/envs/labo3-BigQuery/lib/python3.10/site-packages (from requests<3.0.0dev,>=2.18.0->google-api-core!=2.0.*,!=2.1.*,!=2.2.*,!=2.3.0,<3.0.0dev,>=1.31.5->pandas-gbq) (2022.9.24)\r\n",
      "Requirement already satisfied: oauthlib>=3.0.0 in /Users/eescobar/opt/anaconda3/envs/labo3-BigQuery/lib/python3.10/site-packages (from requests-oauthlib>=0.7.0->google-auth-oauthlib>=0.0.1->pandas-gbq) (3.2.2)\r\n",
      "Requirement already satisfied: db-dtypes in /Users/eescobar/opt/anaconda3/envs/labo3-BigQuery/lib/python3.10/site-packages (1.0.4)\r\n",
      "Requirement already satisfied: packaging>=17.0 in /Users/eescobar/opt/anaconda3/envs/labo3-BigQuery/lib/python3.10/site-packages (from db-dtypes) (21.3)\r\n",
      "Requirement already satisfied: numpy<2.0dev,>=1.16.6 in /Users/eescobar/opt/anaconda3/envs/labo3-BigQuery/lib/python3.10/site-packages (from db-dtypes) (1.23.4)\r\n",
      "Requirement already satisfied: pandas<2.0dev,>=0.24.2 in /Users/eescobar/opt/anaconda3/envs/labo3-BigQuery/lib/python3.10/site-packages (from db-dtypes) (1.5.1)\r\n",
      "Requirement already satisfied: pyarrow<10.0dev,>=3.0.0 in /Users/eescobar/opt/anaconda3/envs/labo3-BigQuery/lib/python3.10/site-packages (from db-dtypes) (9.0.0)\r\n",
      "Requirement already satisfied: pyparsing!=3.0.5,>=2.0.2 in /Users/eescobar/opt/anaconda3/envs/labo3-BigQuery/lib/python3.10/site-packages (from packaging>=17.0->db-dtypes) (3.0.9)\r\n",
      "Requirement already satisfied: python-dateutil>=2.8.1 in /Users/eescobar/opt/anaconda3/envs/labo3-BigQuery/lib/python3.10/site-packages (from pandas<2.0dev,>=0.24.2->db-dtypes) (2.8.2)\r\n",
      "Requirement already satisfied: pytz>=2020.1 in /Users/eescobar/opt/anaconda3/envs/labo3-BigQuery/lib/python3.10/site-packages (from pandas<2.0dev,>=0.24.2->db-dtypes) (2022.1)\r\n",
      "Requirement already satisfied: six>=1.5 in /Users/eescobar/opt/anaconda3/envs/labo3-BigQuery/lib/python3.10/site-packages (from python-dateutil>=2.8.1->pandas<2.0dev,>=0.24.2->db-dtypes) (1.16.0)\r\n",
      "Requirement already satisfied: psycopg2-binary in /Users/eescobar/opt/anaconda3/envs/labo3-BigQuery/lib/python3.10/site-packages (2.9.5)\r\n",
      "Requirement already satisfied: sqlalchemy in /Users/eescobar/opt/anaconda3/envs/labo3-BigQuery/lib/python3.10/site-packages (1.4.44)\r\n",
      "Requirement already satisfied: greenlet!=0.4.17 in /Users/eescobar/opt/anaconda3/envs/labo3-BigQuery/lib/python3.10/site-packages (from sqlalchemy) (2.0.1)\r\n",
      "Requirement already satisfied: pandas-gbq in /Users/eescobar/opt/anaconda3/envs/labo3-BigQuery/lib/python3.10/site-packages (0.17.9)\r\n",
      "Requirement already satisfied: numpy>=1.16.6 in /Users/eescobar/opt/anaconda3/envs/labo3-BigQuery/lib/python3.10/site-packages (from pandas-gbq) (1.23.4)\r\n",
      "Requirement already satisfied: google-cloud-bigquery!=2.4.*,<4.0.0dev,>=1.27.2 in /Users/eescobar/opt/anaconda3/envs/labo3-BigQuery/lib/python3.10/site-packages (from pandas-gbq) (3.4.0)\r\n",
      "Requirement already satisfied: pandas>=0.24.2 in /Users/eescobar/opt/anaconda3/envs/labo3-BigQuery/lib/python3.10/site-packages (from pandas-gbq) (1.5.1)\r\n",
      "Requirement already satisfied: google-auth-oauthlib>=0.0.1 in /Users/eescobar/opt/anaconda3/envs/labo3-BigQuery/lib/python3.10/site-packages (from pandas-gbq) (0.7.1)\r\n",
      "Requirement already satisfied: pyarrow<10.0dev,>=3.0.0 in /Users/eescobar/opt/anaconda3/envs/labo3-BigQuery/lib/python3.10/site-packages (from pandas-gbq) (9.0.0)\r\n",
      "Requirement already satisfied: pydata-google-auth in /Users/eescobar/opt/anaconda3/envs/labo3-BigQuery/lib/python3.10/site-packages (from pandas-gbq) (1.4.0)\r\n",
      "Requirement already satisfied: setuptools in /Users/eescobar/opt/anaconda3/envs/labo3-BigQuery/lib/python3.10/site-packages (from pandas-gbq) (65.5.0)\r\n",
      "Requirement already satisfied: google-auth>=1.25.0 in /Users/eescobar/opt/anaconda3/envs/labo3-BigQuery/lib/python3.10/site-packages (from pandas-gbq) (2.14.1)\r\n",
      "Requirement already satisfied: google-api-core!=2.0.*,!=2.1.*,!=2.2.*,!=2.3.0,<3.0.0dev,>=1.31.5 in /Users/eescobar/opt/anaconda3/envs/labo3-BigQuery/lib/python3.10/site-packages (from pandas-gbq) (2.10.2)\r\n",
      "Requirement already satisfied: google-cloud-bigquery-storage<3.0.0dev,>=1.1.0 in /Users/eescobar/opt/anaconda3/envs/labo3-BigQuery/lib/python3.10/site-packages (from pandas-gbq) (2.16.2)\r\n",
      "Requirement already satisfied: db-dtypes<2.0.0,>=0.3.1 in /Users/eescobar/opt/anaconda3/envs/labo3-BigQuery/lib/python3.10/site-packages (from pandas-gbq) (1.0.4)\r\n",
      "Requirement already satisfied: packaging>=17.0 in /Users/eescobar/opt/anaconda3/envs/labo3-BigQuery/lib/python3.10/site-packages (from db-dtypes<2.0.0,>=0.3.1->pandas-gbq) (21.3)\r\n",
      "Requirement already satisfied: requests<3.0.0dev,>=2.18.0 in /Users/eescobar/opt/anaconda3/envs/labo3-BigQuery/lib/python3.10/site-packages (from google-api-core!=2.0.*,!=2.1.*,!=2.2.*,!=2.3.0,<3.0.0dev,>=1.31.5->pandas-gbq) (2.28.1)\r\n",
      "Requirement already satisfied: googleapis-common-protos<2.0dev,>=1.56.2 in /Users/eescobar/opt/anaconda3/envs/labo3-BigQuery/lib/python3.10/site-packages (from google-api-core!=2.0.*,!=2.1.*,!=2.2.*,!=2.3.0,<3.0.0dev,>=1.31.5->pandas-gbq) (1.57.0)\r\n",
      "Requirement already satisfied: protobuf!=3.20.0,!=3.20.1,!=4.21.0,!=4.21.1,!=4.21.2,!=4.21.3,!=4.21.4,!=4.21.5,<5.0.0dev,>=3.19.5 in /Users/eescobar/opt/anaconda3/envs/labo3-BigQuery/lib/python3.10/site-packages (from google-api-core!=2.0.*,!=2.1.*,!=2.2.*,!=2.3.0,<3.0.0dev,>=1.31.5->pandas-gbq) (4.21.9)\r\n",
      "Requirement already satisfied: cachetools<6.0,>=2.0.0 in /Users/eescobar/opt/anaconda3/envs/labo3-BigQuery/lib/python3.10/site-packages (from google-auth>=1.25.0->pandas-gbq) (5.2.0)\r\n",
      "Requirement already satisfied: pyasn1-modules>=0.2.1 in /Users/eescobar/opt/anaconda3/envs/labo3-BigQuery/lib/python3.10/site-packages (from google-auth>=1.25.0->pandas-gbq) (0.2.8)\r\n",
      "Requirement already satisfied: six>=1.9.0 in /Users/eescobar/opt/anaconda3/envs/labo3-BigQuery/lib/python3.10/site-packages (from google-auth>=1.25.0->pandas-gbq) (1.16.0)\r\n",
      "Requirement already satisfied: rsa<5,>=3.1.4 in /Users/eescobar/opt/anaconda3/envs/labo3-BigQuery/lib/python3.10/site-packages (from google-auth>=1.25.0->pandas-gbq) (4.9)\r\n",
      "Requirement already satisfied: requests-oauthlib>=0.7.0 in /Users/eescobar/opt/anaconda3/envs/labo3-BigQuery/lib/python3.10/site-packages (from google-auth-oauthlib>=0.0.1->pandas-gbq) (1.3.1)\r\n",
      "Requirement already satisfied: google-resumable-media<3.0dev,>=0.6.0 in /Users/eescobar/opt/anaconda3/envs/labo3-BigQuery/lib/python3.10/site-packages (from google-cloud-bigquery!=2.4.*,<4.0.0dev,>=1.27.2->pandas-gbq) (2.4.0)\r\n",
      "Requirement already satisfied: grpcio<2.0dev,>=1.47.0 in /Users/eescobar/opt/anaconda3/envs/labo3-BigQuery/lib/python3.10/site-packages (from google-cloud-bigquery!=2.4.*,<4.0.0dev,>=1.27.2->pandas-gbq) (1.50.0)\r\n",
      "Requirement already satisfied: python-dateutil<3.0dev,>=2.7.2 in /Users/eescobar/opt/anaconda3/envs/labo3-BigQuery/lib/python3.10/site-packages (from google-cloud-bigquery!=2.4.*,<4.0.0dev,>=1.27.2->pandas-gbq) (2.8.2)\r\n",
      "Requirement already satisfied: proto-plus<2.0.0dev,>=1.22.0 in /Users/eescobar/opt/anaconda3/envs/labo3-BigQuery/lib/python3.10/site-packages (from google-cloud-bigquery!=2.4.*,<4.0.0dev,>=1.27.2->pandas-gbq) (1.22.1)\r\n",
      "Requirement already satisfied: google-cloud-core<3.0.0dev,>=1.4.1 in /Users/eescobar/opt/anaconda3/envs/labo3-BigQuery/lib/python3.10/site-packages (from google-cloud-bigquery!=2.4.*,<4.0.0dev,>=1.27.2->pandas-gbq) (2.3.2)\r\n",
      "Requirement already satisfied: pytz>=2020.1 in /Users/eescobar/opt/anaconda3/envs/labo3-BigQuery/lib/python3.10/site-packages (from pandas>=0.24.2->pandas-gbq) (2022.1)\r\n",
      "Requirement already satisfied: grpcio-status<2.0dev,>=1.33.2 in /Users/eescobar/opt/anaconda3/envs/labo3-BigQuery/lib/python3.10/site-packages (from google-api-core!=2.0.*,!=2.1.*,!=2.2.*,!=2.3.0,<3.0.0dev,>=1.31.5->pandas-gbq) (1.50.0)\r\n",
      "Requirement already satisfied: google-crc32c<2.0dev,>=1.0 in /Users/eescobar/opt/anaconda3/envs/labo3-BigQuery/lib/python3.10/site-packages (from google-resumable-media<3.0dev,>=0.6.0->google-cloud-bigquery!=2.4.*,<4.0.0dev,>=1.27.2->pandas-gbq) (1.5.0)\r\n",
      "Requirement already satisfied: pyparsing!=3.0.5,>=2.0.2 in /Users/eescobar/opt/anaconda3/envs/labo3-BigQuery/lib/python3.10/site-packages (from packaging>=17.0->db-dtypes<2.0.0,>=0.3.1->pandas-gbq) (3.0.9)\r\n",
      "Requirement already satisfied: pyasn1<0.5.0,>=0.4.6 in /Users/eescobar/opt/anaconda3/envs/labo3-BigQuery/lib/python3.10/site-packages (from pyasn1-modules>=0.2.1->google-auth>=1.25.0->pandas-gbq) (0.4.8)\r\n",
      "Requirement already satisfied: certifi>=2017.4.17 in /Users/eescobar/opt/anaconda3/envs/labo3-BigQuery/lib/python3.10/site-packages (from requests<3.0.0dev,>=2.18.0->google-api-core!=2.0.*,!=2.1.*,!=2.2.*,!=2.3.0,<3.0.0dev,>=1.31.5->pandas-gbq) (2022.9.24)\r\n",
      "Requirement already satisfied: idna<4,>=2.5 in /Users/eescobar/opt/anaconda3/envs/labo3-BigQuery/lib/python3.10/site-packages (from requests<3.0.0dev,>=2.18.0->google-api-core!=2.0.*,!=2.1.*,!=2.2.*,!=2.3.0,<3.0.0dev,>=1.31.5->pandas-gbq) (3.4)\r\n",
      "Requirement already satisfied: charset-normalizer<3,>=2 in /Users/eescobar/opt/anaconda3/envs/labo3-BigQuery/lib/python3.10/site-packages (from requests<3.0.0dev,>=2.18.0->google-api-core!=2.0.*,!=2.1.*,!=2.2.*,!=2.3.0,<3.0.0dev,>=1.31.5->pandas-gbq) (2.0.4)\r\n",
      "Requirement already satisfied: urllib3<1.27,>=1.21.1 in /Users/eescobar/opt/anaconda3/envs/labo3-BigQuery/lib/python3.10/site-packages (from requests<3.0.0dev,>=2.18.0->google-api-core!=2.0.*,!=2.1.*,!=2.2.*,!=2.3.0,<3.0.0dev,>=1.31.5->pandas-gbq) (1.26.12)\r\n",
      "Requirement already satisfied: oauthlib>=3.0.0 in /Users/eescobar/opt/anaconda3/envs/labo3-BigQuery/lib/python3.10/site-packages (from requests-oauthlib>=0.7.0->google-auth-oauthlib>=0.0.1->pandas-gbq) (3.2.2)\r\n",
      "Collecting matplotlib\r\n",
      "  Using cached matplotlib-3.6.2-cp310-cp310-macosx_10_12_x86_64.whl (7.3 MB)\r\n",
      "Requirement already satisfied: numpy>=1.19 in /Users/eescobar/opt/anaconda3/envs/labo3-BigQuery/lib/python3.10/site-packages (from matplotlib) (1.23.4)\r\n",
      "Collecting kiwisolver>=1.0.1\r\n",
      "  Using cached kiwisolver-1.4.4-cp310-cp310-macosx_10_9_x86_64.whl (65 kB)\r\n",
      "Collecting pillow>=6.2.0\r\n",
      "  Using cached Pillow-9.3.0-cp310-cp310-macosx_10_10_x86_64.whl (3.3 MB)\r\n",
      "Requirement already satisfied: packaging>=20.0 in /Users/eescobar/opt/anaconda3/envs/labo3-BigQuery/lib/python3.10/site-packages (from matplotlib) (21.3)\r\n",
      "Collecting contourpy>=1.0.1\r\n",
      "  Using cached contourpy-1.0.6-cp310-cp310-macosx_10_9_x86_64.whl (240 kB)\r\n",
      "Collecting cycler>=0.10\r\n",
      "  Using cached cycler-0.11.0-py3-none-any.whl (6.4 kB)\r\n",
      "Requirement already satisfied: pyparsing>=2.2.1 in /Users/eescobar/opt/anaconda3/envs/labo3-BigQuery/lib/python3.10/site-packages (from matplotlib) (3.0.9)\r\n",
      "Collecting fonttools>=4.22.0\r\n",
      "  Using cached fonttools-4.38.0-py3-none-any.whl (965 kB)\r\n",
      "Requirement already satisfied: python-dateutil>=2.7 in /Users/eescobar/opt/anaconda3/envs/labo3-BigQuery/lib/python3.10/site-packages (from matplotlib) (2.8.2)\r\n",
      "Requirement already satisfied: six>=1.5 in /Users/eescobar/opt/anaconda3/envs/labo3-BigQuery/lib/python3.10/site-packages (from python-dateutil>=2.7->matplotlib) (1.16.0)\r\n",
      "Installing collected packages: pillow, kiwisolver, fonttools, cycler, contourpy, matplotlib\r\n",
      "Successfully installed contourpy-1.0.6 cycler-0.11.0 fonttools-4.38.0 kiwisolver-1.4.4 matplotlib-3.6.2 pillow-9.3.0\r\n"
     ]
    }
   ],
   "source": [
    "!pip install --upgrade google-cloud-bigquery\n",
    "!pip install --upgrade google-cloud-storage\n",
    "!pip install pandas-gbq\n",
    "!pip install db-dtypes\n",
    "!pip install psycopg2-binary\n",
    "!pip install sqlalchemy\n",
    "!pip install pandas-gbq\n",
    "!pip install matplotlib"
   ],
   "metadata": {
    "collapsed": false,
    "pycharm": {
     "name": "#%%\n"
    }
   }
  },
  {
   "cell_type": "code",
   "execution_count": 25,
   "outputs": [],
   "source": [
    "import pandas as pd\n",
    "from google.cloud import bigquery\n",
    "from google.oauth2 import service_account\n",
    "import matplotlib.pyplot as plt"
   ],
   "metadata": {
    "collapsed": false,
    "pycharm": {
     "name": "#%%\n"
    }
   }
  },
  {
   "cell_type": "markdown",
   "source": [
    "## Creando un cliente\n"
   ],
   "metadata": {
    "collapsed": false,
    "pycharm": {
     "name": "#%% md\n"
    }
   }
  },
  {
   "cell_type": "markdown",
   "source": [
    "Para usar BigQuery en python, necesitamos inicializar un cliente. Para ello, necesitamos un archivo de credenciales que nos permita acceder a la cuenta de Google Cloud Platform. Para ello, debemos ir a la consola de GCP y crear un proyecto. Una vez creado, debemos ir a la sección de IAM & Admin y crear un servicio de cuenta. Una vez creado, debemos descargar el archivo de credenciales en formato JSON. Este archivo lo guardaremos en la carpeta de nuestro proyecto y lo llamaremos `credentials.json`. Una vez hecho esto, podemos inicializar el cliente de BigQuery.\n",
    "\n",
    "Primero creamos una variable que aloja los datos de la cuenta de servicio. Para esto usamos el metodo `service_account.Credentials.from_service_account_file` y le pasamos como argumento el nombre del archivo de credenciales. El argumento scopes es opcional, pero lo usamos para especificar que queremos acceder a la API de BigQuery."
   ],
   "metadata": {
    "collapsed": false,
    "pycharm": {
     "name": "#%% md\n"
    }
   }
  },
  {
   "cell_type": "code",
   "execution_count": 3,
   "outputs": [],
   "source": [
    "credentials_gbq = service_account.Credentials.from_service_account_file(\n",
    "    'credentials-bq.json',\n",
    "    scopes=[\"https://www.googleapis.com/auth/cloud-platform\"],\n",
    ")"
   ],
   "metadata": {
    "collapsed": false,
    "pycharm": {
     "name": "#%%\n"
    }
   }
  },
  {
   "cell_type": "code",
   "execution_count": 4,
   "outputs": [],
   "source": [
    "\n",
    "client_bq = bigquery.Client(location=\"US\", project=\"labo-bigquery\", credentials=credentials_gbq)"
   ],
   "metadata": {
    "collapsed": false,
    "pycharm": {
     "name": "#%%\n"
    }
   }
  },
  {
   "cell_type": "markdown",
   "source": [],
   "metadata": {
    "collapsed": false,
    "pycharm": {
     "name": "#%% md\n"
    }
   }
  },
  {
   "cell_type": "markdown",
   "source": [
    "## 1.1 Creando un dataset"
   ],
   "metadata": {
    "collapsed": false,
    "pycharm": {
     "name": "#%% md\n"
    }
   }
  },
  {
   "cell_type": "markdown",
   "source": [
    "Un Dataset en BigQuery es un contenedor para tablas. Un dataset es similar a un esquema en una base de datos relacional. Los datasets son útiles para organizar y controlar el acceso a sus tablas. Cada tabla debe pertenecer a un dataset."
   ],
   "metadata": {
    "collapsed": false,
    "pycharm": {
     "name": "#%% md\n"
    }
   }
  },
  {
   "cell_type": "markdown",
   "source": [
    "Primero descargamos el listado de datasets existentes en nuestro proyecto. Para esto usamos el metodo `list_datasets` del cliente de BigQuery. Este metodo devuelve un objeto iterable que podemos recorrer con un bucle `for`. En cada iteración, el objeto iterable devuelve un objeto de tipo `google.cloud.bigquery.dataset.DatasetListItem`. Este objeto tiene un atributo `dataset_id` que contiene el nombre del dataset."
   ],
   "metadata": {
    "collapsed": false,
    "pycharm": {
     "name": "#%% md\n"
    }
   }
  },
  {
   "cell_type": "code",
   "execution_count": 5,
   "outputs": [],
   "source": [
    "datasets = client_bq.list_datasets()"
   ],
   "metadata": {
    "collapsed": false,
    "pycharm": {
     "name": "#%%\n"
    }
   }
  },
  {
   "cell_type": "code",
   "execution_count": 6,
   "outputs": [
    {
     "name": "stdout",
     "output_type": "stream",
     "text": [
      "labo\n"
     ]
    }
   ],
   "source": [
    "for dataset in datasets:\n",
    "    print(dataset.dataset_id)"
   ],
   "metadata": {
    "collapsed": false,
    "pycharm": {
     "name": "#%%\n"
    }
   }
  },
  {
   "cell_type": "markdown",
   "source": [
    "Ahora creamos un dataset llamado `labo`. Para esto usamos el metodo `create_dataset` del cliente de BigQuery. Este metodo recibe como argumento un objeto de tipo `google.cloud.bigquery.dataset.Dataset`. Este objeto tiene un atributo `dataset_id` que contiene el nombre del dataset. En este caso, le asignamos el valor `labo`."
   ],
   "metadata": {
    "collapsed": false,
    "pycharm": {
     "name": "#%% md\n"
    }
   }
  },
  {
   "cell_type": "code",
   "execution_count": 7,
   "outputs": [],
   "source": [
    "dataset_id = 'labo'"
   ],
   "metadata": {
    "collapsed": false,
    "pycharm": {
     "name": "#%%\n"
    }
   }
  },
  {
   "cell_type": "markdown",
   "source": [
    "Creamos el dataset en BigQuery."
   ],
   "metadata": {
    "collapsed": false,
    "pycharm": {
     "name": "#%% md\n"
    }
   }
  },
  {
   "cell_type": "code",
   "execution_count": 16,
   "outputs": [],
   "source": [
    "dataset = client_bq.create_dataset(dataset_id)"
   ],
   "metadata": {
    "collapsed": false,
    "pycharm": {
     "name": "#%%\n"
    }
   }
  },
  {
   "cell_type": "markdown",
   "source": [
    "## 1.2 Creando una tabla"
   ],
   "metadata": {
    "collapsed": false,
    "pycharm": {
     "name": "#%% md\n"
    }
   }
  },
  {
   "cell_type": "markdown",
   "source": [
    "Una tabla es un conjunto de datos estructurados que contiene filas y columnas. Cada fila representa una entidad y cada columna representa un atributo de la entidad. Una tabla se compone de un esquema y de datos."
   ],
   "metadata": {
    "collapsed": false,
    "pycharm": {
     "name": "#%% md\n"
    }
   }
  },
  {
   "cell_type": "code",
   "execution_count": 21,
   "outputs": [],
   "source": [
    "table_id = 'labo.staging-fraud'"
   ],
   "metadata": {
    "collapsed": false,
    "pycharm": {
     "name": "#%%\n"
    }
   }
  },
  {
   "cell_type": "markdown",
   "source": [
    "Creamos la tabla en BigQuery."
   ],
   "metadata": {
    "collapsed": false,
    "pycharm": {
     "name": "#%% md\n"
    }
   }
  },
  {
   "cell_type": "code",
   "execution_count": 22,
   "outputs": [],
   "source": [
    "table = client_bq.create_table(table_id)"
   ],
   "metadata": {
    "collapsed": false,
    "pycharm": {
     "name": "#%%\n"
    }
   }
  },
  {
   "cell_type": "markdown",
   "source": [
    "## 1.3 Insertando datos en una tabla"
   ],
   "metadata": {
    "collapsed": false,
    "pycharm": {
     "name": "#%% md\n"
    }
   }
  },
  {
   "cell_type": "markdown",
   "source": [
    "Para insertar datos en una tabla, necesitamos primero crear un DataFrame de pandas. Este DataFrame debe tener la misma estructura que la tabla de BigQuery. Una vez hecho esto, podemos usar el método `to_gbq` para insertar los datos en BigQuery."
   ],
   "metadata": {
    "collapsed": false,
    "pycharm": {
     "name": "#%% md\n"
    }
   }
  },
  {
   "cell_type": "code",
   "execution_count": 24,
   "outputs": [],
   "source": [
    "data = pd.read_csv('data/fraud.csv')"
   ],
   "metadata": {
    "collapsed": false,
    "pycharm": {
     "name": "#%%\n"
    }
   }
  },
  {
   "cell_type": "code",
   "execution_count": 27,
   "outputs": [
    {
     "name": "stderr",
     "output_type": "stream",
     "text": [
      "/Users/eescobar/opt/anaconda3/envs/labo3-BigQuery/lib/python3.10/site-packages/google/auth/_default.py:83: UserWarning: Your application has authenticated using end user credentials from Google Cloud SDK without a quota project. You might receive a \"quota exceeded\" or \"API not enabled\" error. We recommend you rerun `gcloud auth application-default login` and make sure a quota project is added. Or you can use service accounts instead. For more information about service accounts, see https://cloud.google.com/docs/authentication/\n",
      "  warnings.warn(_CLOUD_SDK_CREDENTIALS_WARNING)\n"
     ]
    },
    {
     "name": "stdout",
     "output_type": "stream",
     "text": [
      "Please visit this URL to authorize this application: https://accounts.google.com/o/oauth2/auth?response_type=code&client_id=725825577420-unm2gnkiprugilg743tkbig250f4sfsj.apps.googleusercontent.com&redirect_uri=http%3A%2F%2Flocalhost%3A8080%2F&scope=https%3A%2F%2Fwww.googleapis.com%2Fauth%2Fbigquery&state=WnYjEP86DJLDXkyfkLzmN4MgHTu8Fs&access_type=offline\n"
     ]
    }
   ],
   "source": [
    "data.to_gbq('labo.staging-fraud', project_id='labo-bigquery', if_exists='replace', credentials=credentials_gbq)"
   ],
   "metadata": {
    "collapsed": false,
    "pycharm": {
     "name": "#%%\n"
    }
   }
  },
  {
   "cell_type": "markdown",
   "source": [
    "## 2.1 Consultando datos"
   ],
   "metadata": {
    "collapsed": false,
    "pycharm": {
     "name": "#%% md\n"
    }
   }
  },
  {
   "cell_type": "markdown",
   "source": [
    "La siguiente query cuenta la cantidad de transacciones fraudulentas por día. Para esto, usamos el método `query` del cliente de BigQuery. Este método recibe como argumento una query SQL. El resultado de la query se almacena en un objeto de tipo `google.cloud.bigquery.job.QueryJob`. Este objeto tiene un atributo `result` que contiene el resultado de la query. Este atributo es un objeto iterable que podemos recorrer con un bucle `for`. En cada iteración, el objeto iterable devuelve un objeto de tipo `google.cloud.bigquery.table.Row`. Este objeto tiene un atributo `values` que contiene los valores de la fila."
   ],
   "metadata": {
    "collapsed": false,
    "pycharm": {
     "name": "#%% md\n"
    }
   }
  },
  {
   "cell_type": "code",
   "execution_count": 7,
   "outputs": [],
   "source": [
    "query = \"\"\"\n",
    "SELECT\n",
    "  DATE(TIMESTAMP(trans_date_trans_time)) AS date,\n",
    "  COUNT(*) AS count\n",
    "FROM\n",
    "    `labo-bigquery.labo.staging-fraud`\n",
    "    WHERE\n",
    "    is_fraud = 1\n",
    "GROUP BY\n",
    "    date\n",
    "ORDER BY\n",
    "    date\n",
    "\"\"\""
   ],
   "metadata": {
    "collapsed": false,
    "pycharm": {
     "name": "#%%\n"
    }
   }
  },
  {
   "cell_type": "code",
   "execution_count": 8,
   "outputs": [],
   "source": [
    "query_job = client_bq.query(query)"
   ],
   "metadata": {
    "collapsed": false,
    "pycharm": {
     "name": "#%%\n"
    }
   }
  },
  {
   "cell_type": "code",
   "execution_count": 9,
   "outputs": [
    {
     "name": "stdout",
     "output_type": "stream",
     "text": [
      "<bound method Row.values of Row((datetime.date(2020, 6, 21), 10), {'date': 0, 'count': 1})>\n",
      "<bound method Row.values of Row((datetime.date(2020, 6, 22), 12), {'date': 0, 'count': 1})>\n",
      "<bound method Row.values of Row((datetime.date(2020, 6, 24), 15), {'date': 0, 'count': 1})>\n",
      "<bound method Row.values of Row((datetime.date(2020, 6, 25), 5), {'date': 0, 'count': 1})>\n",
      "<bound method Row.values of Row((datetime.date(2020, 6, 26), 11), {'date': 0, 'count': 1})>\n",
      "<bound method Row.values of Row((datetime.date(2020, 6, 27), 12), {'date': 0, 'count': 1})>\n",
      "<bound method Row.values of Row((datetime.date(2020, 6, 28), 8), {'date': 0, 'count': 1})>\n",
      "<bound method Row.values of Row((datetime.date(2020, 6, 29), 22), {'date': 0, 'count': 1})>\n",
      "<bound method Row.values of Row((datetime.date(2020, 6, 30), 38), {'date': 0, 'count': 1})>\n",
      "<bound method Row.values of Row((datetime.date(2020, 7, 1), 3), {'date': 0, 'count': 1})>\n",
      "<bound method Row.values of Row((datetime.date(2020, 7, 2), 2), {'date': 0, 'count': 1})>\n",
      "<bound method Row.values of Row((datetime.date(2020, 7, 3), 14), {'date': 0, 'count': 1})>\n",
      "<bound method Row.values of Row((datetime.date(2020, 7, 4), 9), {'date': 0, 'count': 1})>\n",
      "<bound method Row.values of Row((datetime.date(2020, 7, 5), 14), {'date': 0, 'count': 1})>\n",
      "<bound method Row.values of Row((datetime.date(2020, 7, 6), 16), {'date': 0, 'count': 1})>\n",
      "<bound method Row.values of Row((datetime.date(2020, 7, 7), 8), {'date': 0, 'count': 1})>\n",
      "<bound method Row.values of Row((datetime.date(2020, 7, 8), 10), {'date': 0, 'count': 1})>\n",
      "<bound method Row.values of Row((datetime.date(2020, 7, 9), 6), {'date': 0, 'count': 1})>\n",
      "<bound method Row.values of Row((datetime.date(2020, 7, 10), 9), {'date': 0, 'count': 1})>\n",
      "<bound method Row.values of Row((datetime.date(2020, 7, 11), 20), {'date': 0, 'count': 1})>\n",
      "<bound method Row.values of Row((datetime.date(2020, 7, 12), 21), {'date': 0, 'count': 1})>\n",
      "<bound method Row.values of Row((datetime.date(2020, 7, 13), 8), {'date': 0, 'count': 1})>\n",
      "<bound method Row.values of Row((datetime.date(2020, 7, 14), 5), {'date': 0, 'count': 1})>\n",
      "<bound method Row.values of Row((datetime.date(2020, 7, 15), 3), {'date': 0, 'count': 1})>\n",
      "<bound method Row.values of Row((datetime.date(2020, 7, 18), 12), {'date': 0, 'count': 1})>\n",
      "<bound method Row.values of Row((datetime.date(2020, 7, 19), 32), {'date': 0, 'count': 1})>\n",
      "<bound method Row.values of Row((datetime.date(2020, 7, 20), 26), {'date': 0, 'count': 1})>\n",
      "<bound method Row.values of Row((datetime.date(2020, 7, 21), 17), {'date': 0, 'count': 1})>\n",
      "<bound method Row.values of Row((datetime.date(2020, 7, 22), 13), {'date': 0, 'count': 1})>\n",
      "<bound method Row.values of Row((datetime.date(2020, 7, 23), 10), {'date': 0, 'count': 1})>\n",
      "<bound method Row.values of Row((datetime.date(2020, 7, 24), 5), {'date': 0, 'count': 1})>\n",
      "<bound method Row.values of Row((datetime.date(2020, 7, 25), 4), {'date': 0, 'count': 1})>\n",
      "<bound method Row.values of Row((datetime.date(2020, 7, 26), 13), {'date': 0, 'count': 1})>\n",
      "<bound method Row.values of Row((datetime.date(2020, 7, 27), 7), {'date': 0, 'count': 1})>\n",
      "<bound method Row.values of Row((datetime.date(2020, 7, 28), 10), {'date': 0, 'count': 1})>\n",
      "<bound method Row.values of Row((datetime.date(2020, 7, 30), 12), {'date': 0, 'count': 1})>\n",
      "<bound method Row.values of Row((datetime.date(2020, 7, 31), 12), {'date': 0, 'count': 1})>\n",
      "<bound method Row.values of Row((datetime.date(2020, 8, 1), 5), {'date': 0, 'count': 1})>\n",
      "<bound method Row.values of Row((datetime.date(2020, 8, 2), 16), {'date': 0, 'count': 1})>\n",
      "<bound method Row.values of Row((datetime.date(2020, 8, 3), 28), {'date': 0, 'count': 1})>\n",
      "<bound method Row.values of Row((datetime.date(2020, 8, 4), 20), {'date': 0, 'count': 1})>\n",
      "<bound method Row.values of Row((datetime.date(2020, 8, 5), 8), {'date': 0, 'count': 1})>\n",
      "<bound method Row.values of Row((datetime.date(2020, 8, 6), 17), {'date': 0, 'count': 1})>\n",
      "<bound method Row.values of Row((datetime.date(2020, 8, 7), 38), {'date': 0, 'count': 1})>\n",
      "<bound method Row.values of Row((datetime.date(2020, 8, 8), 27), {'date': 0, 'count': 1})>\n",
      "<bound method Row.values of Row((datetime.date(2020, 8, 9), 10), {'date': 0, 'count': 1})>\n",
      "<bound method Row.values of Row((datetime.date(2020, 8, 10), 9), {'date': 0, 'count': 1})>\n",
      "<bound method Row.values of Row((datetime.date(2020, 8, 11), 22), {'date': 0, 'count': 1})>\n",
      "<bound method Row.values of Row((datetime.date(2020, 8, 12), 17), {'date': 0, 'count': 1})>\n",
      "<bound method Row.values of Row((datetime.date(2020, 8, 13), 17), {'date': 0, 'count': 1})>\n",
      "<bound method Row.values of Row((datetime.date(2020, 8, 14), 5), {'date': 0, 'count': 1})>\n",
      "<bound method Row.values of Row((datetime.date(2020, 8, 15), 3), {'date': 0, 'count': 1})>\n",
      "<bound method Row.values of Row((datetime.date(2020, 8, 16), 5), {'date': 0, 'count': 1})>\n",
      "<bound method Row.values of Row((datetime.date(2020, 8, 17), 5), {'date': 0, 'count': 1})>\n",
      "<bound method Row.values of Row((datetime.date(2020, 8, 18), 11), {'date': 0, 'count': 1})>\n",
      "<bound method Row.values of Row((datetime.date(2020, 8, 19), 2), {'date': 0, 'count': 1})>\n",
      "<bound method Row.values of Row((datetime.date(2020, 8, 20), 18), {'date': 0, 'count': 1})>\n",
      "<bound method Row.values of Row((datetime.date(2020, 8, 21), 12), {'date': 0, 'count': 1})>\n",
      "<bound method Row.values of Row((datetime.date(2020, 8, 22), 8), {'date': 0, 'count': 1})>\n",
      "<bound method Row.values of Row((datetime.date(2020, 8, 23), 13), {'date': 0, 'count': 1})>\n",
      "<bound method Row.values of Row((datetime.date(2020, 8, 24), 17), {'date': 0, 'count': 1})>\n",
      "<bound method Row.values of Row((datetime.date(2020, 8, 25), 27), {'date': 0, 'count': 1})>\n",
      "<bound method Row.values of Row((datetime.date(2020, 8, 26), 15), {'date': 0, 'count': 1})>\n",
      "<bound method Row.values of Row((datetime.date(2020, 8, 27), 20), {'date': 0, 'count': 1})>\n",
      "<bound method Row.values of Row((datetime.date(2020, 8, 28), 10), {'date': 0, 'count': 1})>\n",
      "<bound method Row.values of Row((datetime.date(2020, 8, 30), 6), {'date': 0, 'count': 1})>\n",
      "<bound method Row.values of Row((datetime.date(2020, 8, 31), 4), {'date': 0, 'count': 1})>\n",
      "<bound method Row.values of Row((datetime.date(2020, 9, 1), 13), {'date': 0, 'count': 1})>\n",
      "<bound method Row.values of Row((datetime.date(2020, 9, 2), 9), {'date': 0, 'count': 1})>\n",
      "<bound method Row.values of Row((datetime.date(2020, 9, 3), 6), {'date': 0, 'count': 1})>\n",
      "<bound method Row.values of Row((datetime.date(2020, 9, 4), 19), {'date': 0, 'count': 1})>\n",
      "<bound method Row.values of Row((datetime.date(2020, 9, 5), 23), {'date': 0, 'count': 1})>\n",
      "<bound method Row.values of Row((datetime.date(2020, 9, 6), 12), {'date': 0, 'count': 1})>\n",
      "<bound method Row.values of Row((datetime.date(2020, 9, 7), 14), {'date': 0, 'count': 1})>\n",
      "<bound method Row.values of Row((datetime.date(2020, 9, 8), 18), {'date': 0, 'count': 1})>\n",
      "<bound method Row.values of Row((datetime.date(2020, 9, 9), 8), {'date': 0, 'count': 1})>\n",
      "<bound method Row.values of Row((datetime.date(2020, 9, 10), 9), {'date': 0, 'count': 1})>\n",
      "<bound method Row.values of Row((datetime.date(2020, 9, 11), 7), {'date': 0, 'count': 1})>\n",
      "<bound method Row.values of Row((datetime.date(2020, 9, 12), 3), {'date': 0, 'count': 1})>\n",
      "<bound method Row.values of Row((datetime.date(2020, 9, 13), 13), {'date': 0, 'count': 1})>\n",
      "<bound method Row.values of Row((datetime.date(2020, 9, 14), 10), {'date': 0, 'count': 1})>\n",
      "<bound method Row.values of Row((datetime.date(2020, 9, 15), 6), {'date': 0, 'count': 1})>\n",
      "<bound method Row.values of Row((datetime.date(2020, 9, 16), 12), {'date': 0, 'count': 1})>\n",
      "<bound method Row.values of Row((datetime.date(2020, 9, 17), 16), {'date': 0, 'count': 1})>\n",
      "<bound method Row.values of Row((datetime.date(2020, 9, 18), 7), {'date': 0, 'count': 1})>\n",
      "<bound method Row.values of Row((datetime.date(2020, 9, 20), 2), {'date': 0, 'count': 1})>\n",
      "<bound method Row.values of Row((datetime.date(2020, 9, 21), 5), {'date': 0, 'count': 1})>\n",
      "<bound method Row.values of Row((datetime.date(2020, 9, 22), 11), {'date': 0, 'count': 1})>\n",
      "<bound method Row.values of Row((datetime.date(2020, 9, 23), 20), {'date': 0, 'count': 1})>\n",
      "<bound method Row.values of Row((datetime.date(2020, 9, 24), 25), {'date': 0, 'count': 1})>\n",
      "<bound method Row.values of Row((datetime.date(2020, 9, 25), 16), {'date': 0, 'count': 1})>\n",
      "<bound method Row.values of Row((datetime.date(2020, 9, 26), 6), {'date': 0, 'count': 1})>\n",
      "<bound method Row.values of Row((datetime.date(2020, 9, 27), 20), {'date': 0, 'count': 1})>\n",
      "<bound method Row.values of Row((datetime.date(2020, 9, 28), 14), {'date': 0, 'count': 1})>\n",
      "<bound method Row.values of Row((datetime.date(2020, 9, 29), 8), {'date': 0, 'count': 1})>\n",
      "<bound method Row.values of Row((datetime.date(2020, 9, 30), 8), {'date': 0, 'count': 1})>\n",
      "<bound method Row.values of Row((datetime.date(2020, 10, 1), 5), {'date': 0, 'count': 1})>\n",
      "<bound method Row.values of Row((datetime.date(2020, 10, 2), 5), {'date': 0, 'count': 1})>\n",
      "<bound method Row.values of Row((datetime.date(2020, 10, 3), 16), {'date': 0, 'count': 1})>\n",
      "<bound method Row.values of Row((datetime.date(2020, 10, 4), 40), {'date': 0, 'count': 1})>\n",
      "<bound method Row.values of Row((datetime.date(2020, 10, 5), 31), {'date': 0, 'count': 1})>\n",
      "<bound method Row.values of Row((datetime.date(2020, 10, 6), 16), {'date': 0, 'count': 1})>\n",
      "<bound method Row.values of Row((datetime.date(2020, 10, 7), 14), {'date': 0, 'count': 1})>\n",
      "<bound method Row.values of Row((datetime.date(2020, 10, 8), 14), {'date': 0, 'count': 1})>\n",
      "<bound method Row.values of Row((datetime.date(2020, 10, 9), 4), {'date': 0, 'count': 1})>\n",
      "<bound method Row.values of Row((datetime.date(2020, 10, 10), 7), {'date': 0, 'count': 1})>\n",
      "<bound method Row.values of Row((datetime.date(2020, 10, 11), 14), {'date': 0, 'count': 1})>\n",
      "<bound method Row.values of Row((datetime.date(2020, 10, 12), 10), {'date': 0, 'count': 1})>\n",
      "<bound method Row.values of Row((datetime.date(2020, 10, 13), 6), {'date': 0, 'count': 1})>\n",
      "<bound method Row.values of Row((datetime.date(2020, 10, 14), 17), {'date': 0, 'count': 1})>\n",
      "<bound method Row.values of Row((datetime.date(2020, 10, 15), 27), {'date': 0, 'count': 1})>\n",
      "<bound method Row.values of Row((datetime.date(2020, 10, 16), 20), {'date': 0, 'count': 1})>\n",
      "<bound method Row.values of Row((datetime.date(2020, 10, 17), 17), {'date': 0, 'count': 1})>\n",
      "<bound method Row.values of Row((datetime.date(2020, 10, 18), 19), {'date': 0, 'count': 1})>\n",
      "<bound method Row.values of Row((datetime.date(2020, 10, 19), 3), {'date': 0, 'count': 1})>\n",
      "<bound method Row.values of Row((datetime.date(2020, 10, 22), 4), {'date': 0, 'count': 1})>\n",
      "<bound method Row.values of Row((datetime.date(2020, 10, 23), 5), {'date': 0, 'count': 1})>\n",
      "<bound method Row.values of Row((datetime.date(2020, 10, 24), 15), {'date': 0, 'count': 1})>\n",
      "<bound method Row.values of Row((datetime.date(2020, 10, 25), 38), {'date': 0, 'count': 1})>\n",
      "<bound method Row.values of Row((datetime.date(2020, 10, 26), 4), {'date': 0, 'count': 1})>\n",
      "<bound method Row.values of Row((datetime.date(2020, 10, 27), 10), {'date': 0, 'count': 1})>\n",
      "<bound method Row.values of Row((datetime.date(2020, 10, 28), 5), {'date': 0, 'count': 1})>\n",
      "<bound method Row.values of Row((datetime.date(2020, 10, 29), 4), {'date': 0, 'count': 1})>\n",
      "<bound method Row.values of Row((datetime.date(2020, 10, 30), 1), {'date': 0, 'count': 1})>\n",
      "<bound method Row.values of Row((datetime.date(2020, 10, 31), 13), {'date': 0, 'count': 1})>\n",
      "<bound method Row.values of Row((datetime.date(2020, 11, 1), 16), {'date': 0, 'count': 1})>\n",
      "<bound method Row.values of Row((datetime.date(2020, 11, 2), 4), {'date': 0, 'count': 1})>\n",
      "<bound method Row.values of Row((datetime.date(2020, 11, 3), 8), {'date': 0, 'count': 1})>\n",
      "<bound method Row.values of Row((datetime.date(2020, 11, 4), 16), {'date': 0, 'count': 1})>\n",
      "<bound method Row.values of Row((datetime.date(2020, 11, 5), 19), {'date': 0, 'count': 1})>\n",
      "<bound method Row.values of Row((datetime.date(2020, 11, 6), 8), {'date': 0, 'count': 1})>\n",
      "<bound method Row.values of Row((datetime.date(2020, 11, 7), 5), {'date': 0, 'count': 1})>\n",
      "<bound method Row.values of Row((datetime.date(2020, 11, 8), 12), {'date': 0, 'count': 1})>\n",
      "<bound method Row.values of Row((datetime.date(2020, 11, 9), 7), {'date': 0, 'count': 1})>\n",
      "<bound method Row.values of Row((datetime.date(2020, 11, 10), 13), {'date': 0, 'count': 1})>\n",
      "<bound method Row.values of Row((datetime.date(2020, 11, 11), 3), {'date': 0, 'count': 1})>\n",
      "<bound method Row.values of Row((datetime.date(2020, 11, 12), 8), {'date': 0, 'count': 1})>\n",
      "<bound method Row.values of Row((datetime.date(2020, 11, 13), 13), {'date': 0, 'count': 1})>\n",
      "<bound method Row.values of Row((datetime.date(2020, 11, 14), 6), {'date': 0, 'count': 1})>\n",
      "<bound method Row.values of Row((datetime.date(2020, 11, 15), 6), {'date': 0, 'count': 1})>\n",
      "<bound method Row.values of Row((datetime.date(2020, 11, 16), 6), {'date': 0, 'count': 1})>\n",
      "<bound method Row.values of Row((datetime.date(2020, 11, 18), 9), {'date': 0, 'count': 1})>\n",
      "<bound method Row.values of Row((datetime.date(2020, 11, 19), 15), {'date': 0, 'count': 1})>\n",
      "<bound method Row.values of Row((datetime.date(2020, 11, 20), 21), {'date': 0, 'count': 1})>\n",
      "<bound method Row.values of Row((datetime.date(2020, 11, 21), 7), {'date': 0, 'count': 1})>\n",
      "<bound method Row.values of Row((datetime.date(2020, 11, 22), 3), {'date': 0, 'count': 1})>\n",
      "<bound method Row.values of Row((datetime.date(2020, 11, 23), 8), {'date': 0, 'count': 1})>\n",
      "<bound method Row.values of Row((datetime.date(2020, 11, 24), 4), {'date': 0, 'count': 1})>\n",
      "<bound method Row.values of Row((datetime.date(2020, 11, 25), 17), {'date': 0, 'count': 1})>\n",
      "<bound method Row.values of Row((datetime.date(2020, 11, 26), 29), {'date': 0, 'count': 1})>\n",
      "<bound method Row.values of Row((datetime.date(2020, 11, 27), 23), {'date': 0, 'count': 1})>\n",
      "<bound method Row.values of Row((datetime.date(2020, 11, 28), 8), {'date': 0, 'count': 1})>\n",
      "<bound method Row.values of Row((datetime.date(2020, 12, 1), 11), {'date': 0, 'count': 1})>\n",
      "<bound method Row.values of Row((datetime.date(2020, 12, 2), 16), {'date': 0, 'count': 1})>\n",
      "<bound method Row.values of Row((datetime.date(2020, 12, 3), 4), {'date': 0, 'count': 1})>\n",
      "<bound method Row.values of Row((datetime.date(2020, 12, 4), 8), {'date': 0, 'count': 1})>\n",
      "<bound method Row.values of Row((datetime.date(2020, 12, 5), 14), {'date': 0, 'count': 1})>\n",
      "<bound method Row.values of Row((datetime.date(2020, 12, 6), 18), {'date': 0, 'count': 1})>\n",
      "<bound method Row.values of Row((datetime.date(2020, 12, 7), 11), {'date': 0, 'count': 1})>\n",
      "<bound method Row.values of Row((datetime.date(2020, 12, 8), 29), {'date': 0, 'count': 1})>\n",
      "<bound method Row.values of Row((datetime.date(2020, 12, 9), 14), {'date': 0, 'count': 1})>\n",
      "<bound method Row.values of Row((datetime.date(2020, 12, 10), 4), {'date': 0, 'count': 1})>\n",
      "<bound method Row.values of Row((datetime.date(2020, 12, 11), 21), {'date': 0, 'count': 1})>\n",
      "<bound method Row.values of Row((datetime.date(2020, 12, 12), 19), {'date': 0, 'count': 1})>\n",
      "<bound method Row.values of Row((datetime.date(2020, 12, 13), 9), {'date': 0, 'count': 1})>\n",
      "<bound method Row.values of Row((datetime.date(2020, 12, 14), 11), {'date': 0, 'count': 1})>\n",
      "<bound method Row.values of Row((datetime.date(2020, 12, 15), 13), {'date': 0, 'count': 1})>\n",
      "<bound method Row.values of Row((datetime.date(2020, 12, 16), 12), {'date': 0, 'count': 1})>\n",
      "<bound method Row.values of Row((datetime.date(2020, 12, 17), 13), {'date': 0, 'count': 1})>\n",
      "<bound method Row.values of Row((datetime.date(2020, 12, 18), 3), {'date': 0, 'count': 1})>\n",
      "<bound method Row.values of Row((datetime.date(2020, 12, 19), 7), {'date': 0, 'count': 1})>\n",
      "<bound method Row.values of Row((datetime.date(2020, 12, 20), 4), {'date': 0, 'count': 1})>\n",
      "<bound method Row.values of Row((datetime.date(2020, 12, 21), 10), {'date': 0, 'count': 1})>\n",
      "<bound method Row.values of Row((datetime.date(2020, 12, 22), 7), {'date': 0, 'count': 1})>\n"
     ]
    }
   ],
   "source": [
    "for row in query_job.result():\n",
    "    print(row.values)"
   ],
   "metadata": {
    "collapsed": false,
    "pycharm": {
     "name": "#%%\n"
    }
   }
  },
  {
   "cell_type": "markdown",
   "source": [
    "En esta query observamos que el la columna `trans_date_trans_time` tiene el tipo de dato `STRING`. Para poder ordenar los datos por fecha, debemos convertir esta columna a tipo `TIMESTAMP`. Para esto, usamos la función `TIMESTAMP` de BigQuery. Esta función recibe como argumento una cadena de texto que representa una fecha. Esta cadena de texto debe tener el formato `YYYY-MM-DD HH:MM:SS`."
   ],
   "metadata": {
    "collapsed": false,
    "pycharm": {
     "name": "#%% md\n"
    }
   }
  },
  {
   "cell_type": "code",
   "execution_count": 10,
   "outputs": [],
   "source": [
    "df = query_job.to_dataframe()"
   ],
   "metadata": {
    "collapsed": false,
    "pycharm": {
     "name": "#%%\n"
    }
   }
  },
  {
   "cell_type": "code",
   "execution_count": 11,
   "outputs": [
    {
     "data": {
      "text/plain": "         date  count\n0  2020-06-21     10\n1  2020-06-22     12\n2  2020-06-24     15\n3  2020-06-25      5\n4  2020-06-26     11",
      "text/html": "<div>\n<style scoped>\n    .dataframe tbody tr th:only-of-type {\n        vertical-align: middle;\n    }\n\n    .dataframe tbody tr th {\n        vertical-align: top;\n    }\n\n    .dataframe thead th {\n        text-align: right;\n    }\n</style>\n<table border=\"1\" class=\"dataframe\">\n  <thead>\n    <tr style=\"text-align: right;\">\n      <th></th>\n      <th>date</th>\n      <th>count</th>\n    </tr>\n  </thead>\n  <tbody>\n    <tr>\n      <th>0</th>\n      <td>2020-06-21</td>\n      <td>10</td>\n    </tr>\n    <tr>\n      <th>1</th>\n      <td>2020-06-22</td>\n      <td>12</td>\n    </tr>\n    <tr>\n      <th>2</th>\n      <td>2020-06-24</td>\n      <td>15</td>\n    </tr>\n    <tr>\n      <th>3</th>\n      <td>2020-06-25</td>\n      <td>5</td>\n    </tr>\n    <tr>\n      <th>4</th>\n      <td>2020-06-26</td>\n      <td>11</td>\n    </tr>\n  </tbody>\n</table>\n</div>"
     },
     "execution_count": 11,
     "metadata": {},
     "output_type": "execute_result"
    }
   ],
   "source": [
    "df.head()"
   ],
   "metadata": {
    "collapsed": false,
    "pycharm": {
     "name": "#%%\n"
    }
   }
  },
  {
   "cell_type": "markdown",
   "source": [
    "## 2.2 Consultando datos con pandas"
   ],
   "metadata": {
    "collapsed": false,
    "pycharm": {
     "name": "#%% md\n"
    }
   }
  },
  {
   "cell_type": "markdown",
   "source": [
    " Podemos usar el método `read_gbq` de pandas para consultar datos en BigQuery. Este método recibe como argumento una query SQL. El resultado de la query se almacena en un DataFrame de pandas."
   ],
   "metadata": {
    "collapsed": false,
    "pycharm": {
     "name": "#%% md\n"
    }
   }
  },
  {
   "cell_type": "code",
   "execution_count": 12,
   "outputs": [],
   "source": [
    "result = pd.read_gbq(query, project_id='labo-bigquery', credentials=credentials_gbq)"
   ],
   "metadata": {
    "collapsed": false,
    "pycharm": {
     "name": "#%%\n"
    }
   }
  },
  {
   "cell_type": "code",
   "execution_count": 13,
   "outputs": [
    {
     "data": {
      "text/plain": "         date  count\n0  2020-06-21     10\n1  2020-06-22     12\n2  2020-06-24     15\n3  2020-06-25      5\n4  2020-06-26     11",
      "text/html": "<div>\n<style scoped>\n    .dataframe tbody tr th:only-of-type {\n        vertical-align: middle;\n    }\n\n    .dataframe tbody tr th {\n        vertical-align: top;\n    }\n\n    .dataframe thead th {\n        text-align: right;\n    }\n</style>\n<table border=\"1\" class=\"dataframe\">\n  <thead>\n    <tr style=\"text-align: right;\">\n      <th></th>\n      <th>date</th>\n      <th>count</th>\n    </tr>\n  </thead>\n  <tbody>\n    <tr>\n      <th>0</th>\n      <td>2020-06-21</td>\n      <td>10</td>\n    </tr>\n    <tr>\n      <th>1</th>\n      <td>2020-06-22</td>\n      <td>12</td>\n    </tr>\n    <tr>\n      <th>2</th>\n      <td>2020-06-24</td>\n      <td>15</td>\n    </tr>\n    <tr>\n      <th>3</th>\n      <td>2020-06-25</td>\n      <td>5</td>\n    </tr>\n    <tr>\n      <th>4</th>\n      <td>2020-06-26</td>\n      <td>11</td>\n    </tr>\n  </tbody>\n</table>\n</div>"
     },
     "execution_count": 13,
     "metadata": {},
     "output_type": "execute_result"
    }
   ],
   "source": [
    "result.head()"
   ],
   "metadata": {
    "collapsed": false,
    "pycharm": {
     "name": "#%%\n"
    }
   }
  },
  {
   "cell_type": "markdown",
   "source": [
    "## 3.1 Creando un bucket en Cloud Storage"
   ],
   "metadata": {
    "collapsed": false,
    "pycharm": {
     "name": "#%% md\n"
    }
   }
  },
  {
   "cell_type": "markdown",
   "source": [
    "En esta seccion, vamos a crear un bucket en Cloud Storage. Un bucket es un contenedor para objetos. Un bucket es similar a una carpeta en una computadora. Los buckets son útiles para organizar y controlar el acceso a sus objetos. Cada objeto debe pertenecer a un bucket."
   ],
   "metadata": {
    "collapsed": false,
    "pycharm": {
     "name": "#%% md\n"
    }
   }
  },
  {
   "cell_type": "code",
   "execution_count": 14,
   "outputs": [],
   "source": [
    "from google.cloud import storage"
   ],
   "metadata": {
    "collapsed": false,
    "pycharm": {
     "name": "#%%\n"
    }
   }
  },
  {
   "cell_type": "code",
   "execution_count": 15,
   "outputs": [],
   "source": [
    "credentials_storage = service_account.Credentials.from_service_account_file(\n",
    "    'credentials-gcs.json',\n",
    "    scopes=[\"https://www.googleapis.com/auth/cloud-platform\"],\n",
    ")"
   ],
   "metadata": {
    "collapsed": false,
    "pycharm": {
     "name": "#%%\n"
    }
   }
  },
  {
   "cell_type": "code",
   "execution_count": 16,
   "outputs": [],
   "source": [
    "storage_client = storage.Client(project='labo-bigquery', credentials=credentials_storage)"
   ],
   "metadata": {
    "collapsed": false,
    "pycharm": {
     "name": "#%%\n"
    }
   }
  },
  {
   "cell_type": "code",
   "execution_count": 5,
   "outputs": [],
   "source": [
    "bucket_name = 'staging-fraud'"
   ],
   "metadata": {
    "collapsed": false,
    "pycharm": {
     "name": "#%%\n"
    }
   }
  },
  {
   "cell_type": "code",
   "execution_count": null,
   "outputs": [],
   "source": [
    "bucket = storage_client.create_bucket(bucket_name)"
   ],
   "metadata": {
    "collapsed": false,
    "pycharm": {
     "name": "#%%\n",
     "is_executing": true
    }
   }
  },
  {
   "cell_type": "code",
   "execution_count": null,
   "outputs": [],
   "source": [
    "bucket"
   ],
   "metadata": {
    "collapsed": false,
    "pycharm": {
     "name": "#%%\n",
     "is_executing": true
    }
   }
  },
  {
   "cell_type": "code",
   "execution_count": 31,
   "outputs": [
    {
     "data": {
      "text/plain": "'US'"
     },
     "execution_count": 31,
     "metadata": {},
     "output_type": "execute_result"
    }
   ],
   "source": [
    "bucket.location"
   ],
   "metadata": {
    "collapsed": false,
    "pycharm": {
     "name": "#%%\n"
    }
   }
  },
  {
   "cell_type": "code",
   "execution_count": 32,
   "outputs": [
    {
     "data": {
      "text/plain": "'STANDARD'"
     },
     "execution_count": 32,
     "metadata": {},
     "output_type": "execute_result"
    }
   ],
   "source": [
    "bucket.storage_class"
   ],
   "metadata": {
    "collapsed": false,
    "pycharm": {
     "name": "#%%\n"
    }
   }
  },
  {
   "cell_type": "code",
   "execution_count": 33,
   "outputs": [
    {
     "data": {
      "text/plain": "786060984607"
     },
     "execution_count": 33,
     "metadata": {},
     "output_type": "execute_result"
    }
   ],
   "source": [
    "bucket.project_number"
   ],
   "metadata": {
    "collapsed": false,
    "pycharm": {
     "name": "#%%\n"
    }
   }
  },
  {
   "cell_type": "markdown",
   "source": [
    "## 3.2 Conectando a PostgreSQL"
   ],
   "metadata": {
    "collapsed": false,
    "pycharm": {
     "name": "#%% md\n"
    }
   }
  },
  {
   "cell_type": "markdown",
   "source": [
    "![](image/oltp.jpeg)\n",
    "En esta parte, nos vamos a conectar a una instancia de PostgreSQL en Google Cloud. Para esto, usamos el método `connect` de la librería `psycopg2`. Este método recibe como argumento una cadena de texto que contiene la URL de conexión a la instancia de PostgreSQL. Esta cadena de texto tiene el siguiente formato:"
   ],
   "metadata": {
    "collapsed": false,
    "pycharm": {
     "name": "#%% md\n"
    }
   }
  },
  {
   "cell_type": "code",
   "execution_count": 17,
   "outputs": [],
   "source": [
    "import configparser\n",
    "from sqlalchemy import create_engine"
   ],
   "metadata": {
    "collapsed": false,
    "pycharm": {
     "name": "#%%\n"
    }
   }
  },
  {
   "cell_type": "code",
   "execution_count": 18,
   "outputs": [],
   "source": [
    "# reading the db config file\n",
    "config = configparser.ConfigParser()\n",
    "config.read('db.ini')\n",
    "\n",
    "# profile name\n",
    "profile = \"postgres_cloud\"\n",
    "\n",
    "# getting the db config\n",
    "POSTGRES_USERNAME = config[profile]['username']\n",
    "POSTGRES_PASSWORD = config[profile]['password']\n",
    "POSTGRES_HOST = config[profile]['host']\n",
    "POSTGRES_PORT = config[profile]['port']\n",
    "POSTGRES_DATABASE = config[profile]['database']\n",
    "\n",
    "# creating the connection string\n",
    "postgres_connection_string = f'postgresql://{POSTGRES_USERNAME}:{POSTGRES_PASSWORD}@{POSTGRES_HOST}:{POSTGRES_PORT}/{POSTGRES_DATABASE}'\n",
    "\n",
    "engine =  create_engine(postgres_connection_string)"
   ],
   "metadata": {
    "collapsed": false,
    "pycharm": {
     "name": "#%%\n"
    }
   }
  },
  {
   "cell_type": "markdown",
   "source": [
    "Ahora leeremos cada una de las tablas de la base de datos y las guardaremos en un DataFrame de pandas."
   ],
   "metadata": {
    "collapsed": false,
    "pycharm": {
     "name": "#%% md\n"
    }
   }
  },
  {
   "cell_type": "code",
   "execution_count": 19,
   "outputs": [],
   "source": [
    "df_customer = pd.read_sql_table('customer', engine)"
   ],
   "metadata": {
    "collapsed": false,
    "pycharm": {
     "name": "#%%\n"
    }
   }
  },
  {
   "cell_type": "code",
   "execution_count": 20,
   "outputs": [],
   "source": [
    "df_address = pd.read_sql_table('address', engine)"
   ],
   "metadata": {
    "collapsed": false,
    "pycharm": {
     "name": "#%%\n"
    }
   }
  },
  {
   "cell_type": "code",
   "execution_count": 12,
   "outputs": [],
   "source": [
    "df_city = pd.read_sql_table('city', engine)"
   ],
   "metadata": {
    "collapsed": false,
    "pycharm": {
     "name": "#%%\n"
    }
   }
  },
  {
   "cell_type": "code",
   "execution_count": 13,
   "outputs": [],
   "source": [
    "df_merchant = pd.read_sql_table('merchant', engine)"
   ],
   "metadata": {
    "collapsed": false,
    "pycharm": {
     "name": "#%%\n"
    }
   }
  },
  {
   "cell_type": "code",
   "execution_count": 14,
   "outputs": [],
   "source": [
    "df_transaction = pd.read_sql_table('transaction', engine)"
   ],
   "metadata": {
    "collapsed": false,
    "pycharm": {
     "name": "#%%\n"
    }
   }
  },
  {
   "cell_type": "markdown",
   "source": [
    "## 3.3 Transfiriendo datos a Google Cloud Storage"
   ],
   "metadata": {
    "collapsed": false,
    "pycharm": {
     "name": "#%% md\n"
    }
   }
  },
  {
   "cell_type": "code",
   "execution_count": 21,
   "outputs": [],
   "source": [
    "df_transaction.to_csv('data/transaction.csv', index=False)\n",
    "bucket = storage_client.get_bucket('staging-fraud')\n",
    "blob = bucket.blob('transaction.csv').upload_from_filename('data/transaction.csv')"
   ],
   "metadata": {
    "collapsed": false,
    "pycharm": {
     "name": "#%%\n"
    }
   }
  },
  {
   "cell_type": "markdown",
   "source": [
    "Transferir el resto de las tablas a Cloud Storage."
   ],
   "metadata": {
    "collapsed": false,
    "pycharm": {
     "name": "#%% md\n"
    }
   }
  },
  {
   "cell_type": "code",
   "execution_count": null,
   "outputs": [],
   "source": [
    "\"\"\"Your answer here\"\"\""
   ],
   "metadata": {
    "collapsed": false,
    "pycharm": {
     "name": "#%%\n"
    }
   }
  },
  {
   "cell_type": "markdown",
   "source": [
    "## 3.4 Transfiriendo datos a BigQuery"
   ],
   "metadata": {
    "collapsed": false,
    "pycharm": {
     "name": "#%% md\n"
    }
   }
  },
  {
   "cell_type": "markdown",
   "source": [
    "Podemos transferir las tablas directamente a BigQuery usando el método `to_gbq` de pandas. Este método recibe como argumento el nombre de la tabla en BigQuery, el DataFrame que contiene los datos, el ID del proyecto y el nombre del dataset."
   ],
   "metadata": {
    "collapsed": false,
    "pycharm": {
     "name": "#%% md\n"
    }
   }
  },
  {
   "cell_type": "code",
   "execution_count": 21,
   "outputs": [],
   "source": [
    "import pandas_gbq as gbq"
   ],
   "metadata": {
    "collapsed": false,
    "pycharm": {
     "name": "#%%\n"
    }
   }
  },
  {
   "cell_type": "code",
   "execution_count": 24,
   "outputs": [],
   "source": [
    "gbq.to_gbq(df_customer, 'labo.staging-customer', project_id='labo-bigquery', if_exists='replace',\n",
    "           credentials=credentials_gbq)"
   ],
   "metadata": {
    "collapsed": false,
    "pycharm": {
     "name": "#%%\n"
    }
   }
  },
  {
   "cell_type": "markdown",
   "source": [
    "Transferir el resto de las tablas a BigQuery. El nombre tiene que tener el siguiente formato: `<nombre_dataset>.staging-<nombre_tabla>`."
   ],
   "metadata": {
    "collapsed": false,
    "pycharm": {
     "name": "#%% md\n"
    }
   }
  },
  {
   "cell_type": "code",
   "execution_count": null,
   "outputs": [],
   "source": [
    "\"\"\"Your answer here\"\"\""
   ],
   "metadata": {
    "collapsed": false,
    "pycharm": {
     "name": "#%%\n"
    }
   }
  },
  {
   "cell_type": "markdown",
   "source": [
    "## 4 Modelando datos"
   ],
   "metadata": {
    "collapsed": false,
    "pycharm": {
     "name": "#%% md\n"
    }
   }
  },
  {
   "cell_type": "markdown",
   "source": [
    "El modelo de datos es el siguiente:\n",
    "\n",
    "![](image/olap.png)"
   ],
   "metadata": {
    "collapsed": false,
    "pycharm": {
     "name": "#%% md\n"
    }
   }
  },
  {
   "cell_type": "markdown",
   "source": [
    "En esta seccion vamos a realizar el modelamiento dimensional de los datos. Para eso, vamos a crear las tablas dimensionales que daran contexto e informacion a la tabla de facts. Estas tablas dimensionales son:\n",
    "\n",
    "- `dim_time`\n",
    "- `dim_merchant`\n",
    "- `dim_customer`\n",
    "- `dim_address`\n"
   ],
   "metadata": {
    "collapsed": false,
    "pycharm": {
     "name": "#%% md\n"
    }
   }
  },
  {
   "cell_type": "code",
   "execution_count": 28,
   "outputs": [
    {
     "data": {
      "text/plain": "<google.cloud.bigquery.table._EmptyRowIterator at 0x7fec3c15f9a0>"
     },
     "execution_count": 28,
     "metadata": {},
     "output_type": "execute_result"
    }
   ],
   "source": [
    "# Creamos la tabla dim_merchant de la tabla\n",
    "query = \"\"\"\n",
    "CREATE TABLE `labo-bigquery.labo.dim_merchant` AS (\n",
    "SELECT\n",
    "    merchant_id,\n",
    "    merchant_name,\n",
    "    category,\n",
    "    lat,\n",
    "    long\n",
    "FROM `labo-bigquery.labo.staging-merchant`\n",
    ")\n",
    "\"\"\"\n",
    "\n",
    "# Ejecutamos la query\n",
    "query_job = client_bq.query(query)\n",
    "query_job.result()"
   ],
   "metadata": {
    "collapsed": false,
    "pycharm": {
     "name": "#%%\n"
    }
   }
  },
  {
   "cell_type": "markdown",
   "source": [
    "Creamos las tablas dimensionales restantes y la tabla de fact."
   ],
   "metadata": {
    "collapsed": false,
    "pycharm": {
     "name": "#%% md\n"
    }
   }
  },
  {
   "cell_type": "code",
   "execution_count": null,
   "outputs": [],
   "source": [
    "\"\"\"Your answer here\"\"\""
   ],
   "metadata": {
    "collapsed": false,
    "pycharm": {
     "name": "#%%\n"
    }
   }
  },
  {
   "cell_type": "markdown",
   "source": [
    "## 5. Consultas"
   ],
   "metadata": {
    "collapsed": false,
    "pycharm": {
     "name": "#%% md\n"
    }
   }
  },
  {
   "cell_type": "markdown",
   "source": [
    "### 5.1. ¿Cuál es el monto promedio de transacciones por mes?"
   ],
   "metadata": {
    "collapsed": false,
    "pycharm": {
     "name": "#%% md\n"
    }
   }
  },
  {
   "cell_type": "code",
   "execution_count": 22,
   "outputs": [
    {
     "data": {
      "text/plain": "   month  avg_amount\n0      6   68.821910\n1      7   68.768362\n2      8   69.397959\n3      9   69.963547\n4     10   70.477537\n5     11   69.038238\n6     12   68.582354",
      "text/html": "<div>\n<style scoped>\n    .dataframe tbody tr th:only-of-type {\n        vertical-align: middle;\n    }\n\n    .dataframe tbody tr th {\n        vertical-align: top;\n    }\n\n    .dataframe thead th {\n        text-align: right;\n    }\n</style>\n<table border=\"1\" class=\"dataframe\">\n  <thead>\n    <tr style=\"text-align: right;\">\n      <th></th>\n      <th>month</th>\n      <th>avg_amount</th>\n    </tr>\n  </thead>\n  <tbody>\n    <tr>\n      <th>0</th>\n      <td>6</td>\n      <td>68.821910</td>\n    </tr>\n    <tr>\n      <th>1</th>\n      <td>7</td>\n      <td>68.768362</td>\n    </tr>\n    <tr>\n      <th>2</th>\n      <td>8</td>\n      <td>69.397959</td>\n    </tr>\n    <tr>\n      <th>3</th>\n      <td>9</td>\n      <td>69.963547</td>\n    </tr>\n    <tr>\n      <th>4</th>\n      <td>10</td>\n      <td>70.477537</td>\n    </tr>\n    <tr>\n      <th>5</th>\n      <td>11</td>\n      <td>69.038238</td>\n    </tr>\n    <tr>\n      <th>6</th>\n      <td>12</td>\n      <td>68.582354</td>\n    </tr>\n  </tbody>\n</table>\n</div>"
     },
     "execution_count": 22,
     "metadata": {},
     "output_type": "execute_result"
    }
   ],
   "source": [
    "# Consulta 1\n",
    "query = \"\"\"\n",
    "SELECT\n",
    "    month,\n",
    "    AVG(amount) AS avg_amount\n",
    "FROM `labo-bigquery.labo.fact_transaction`\n",
    "JOIN `labo-bigquery.labo.dim_time` USING (time_id)\n",
    "GROUP BY month\n",
    "ORDER BY month\n",
    "\"\"\"\n",
    "query_job = client_bq.query(query)\n",
    "df = query_job.to_dataframe()\n",
    "df"
   ],
   "metadata": {
    "collapsed": false,
    "pycharm": {
     "name": "#%%\n"
    }
   }
  },
  {
   "cell_type": "code",
   "execution_count": 31,
   "outputs": [
    {
     "data": {
      "text/plain": "<AxesSubplot: title={'center': 'Monto promedio de transacciones por mes'}, xlabel='month'>"
     },
     "execution_count": 31,
     "metadata": {},
     "output_type": "execute_result"
    },
    {
     "data": {
      "text/plain": "<Figure size 1000x500 with 1 Axes>",
      "image/png": "[encoded data removed]"
     },
     "metadata": {},
     "output_type": "display_data"
    }
   ],
   "source": [
    "# Grafico 1\n",
    "df.plot(x='month', y='avg_amount', kind='bar', title='Monto promedio de transacciones por mes', figsize=(10, 5))"
   ],
   "metadata": {
    "collapsed": false,
    "pycharm": {
     "name": "#%%\n"
    }
   }
  },
  {
   "cell_type": "markdown",
   "source": [
    "### 5.2. ¿Cuál es el monto promedio de transacciones por mes y por género?"
   ],
   "metadata": {
    "collapsed": false,
    "pycharm": {
     "name": "#%% md\n"
    }
   }
  },
  {
   "cell_type": "code",
   "execution_count": null,
   "outputs": [],
   "source": [],
   "metadata": {
    "collapsed": false,
    "pycharm": {
     "name": "#%%\n"
    }
   }
  },
  {
   "cell_type": "markdown",
   "source": [
    "### 5.3. ¿Cuál es el monto promedio de transacciones por mes y por género y por ciudad?"
   ],
   "metadata": {
    "collapsed": false,
    "pycharm": {
     "name": "#%% md\n"
    }
   }
  },
  {
   "cell_type": "code",
   "execution_count": null,
   "outputs": [],
   "source": [],
   "metadata": {
    "collapsed": false,
    "pycharm": {
     "name": "#%%\n"
    }
   }
  },
  {
   "cell_type": "markdown",
   "source": [
    "### 5.4. ¿Cuál es el porcentaje de transacciones fraudulentas por mes? Mostrar el mes y el porcentaje de transacciones fraudulentas."
   ],
   "metadata": {
    "collapsed": false,
    "pycharm": {
     "name": "#%% md\n"
    }
   }
  },
  {
   "cell_type": "code",
   "execution_count": 31,
   "outputs": [],
   "source": [],
   "metadata": {
    "collapsed": false,
    "pycharm": {
     "name": "#%%\n"
    }
   }
  },
  {
   "cell_type": "markdown",
   "source": [
    "### 5.5 ¿Cuál es el género más susceptible a transacciones fraudulentas? Mostrar el género y el porcentaje de transacciones fraudulentas."
   ],
   "metadata": {
    "collapsed": false,
    "pycharm": {
     "name": "#%% md\n"
    }
   }
  },
  {
   "cell_type": "code",
   "execution_count": null,
   "outputs": [],
   "source": [],
   "metadata": {
    "collapsed": false,
    "pycharm": {
     "name": "#%%\n"
    }
   }
  },
  {
   "cell_type": "markdown",
   "source": [
    "### 5.6. ¿Cuál es el porcentaje de transacciones fraudulentas por tienda? Muestre las 10 tiendas con mayor porcentaje de transacciones fraudulentas. Mostrar el nombre de la tienda, la categoría y el porcentaje de transacciones fraudulentas."
   ],
   "metadata": {
    "collapsed": false,
    "pycharm": {
     "name": "#%% md\n"
    }
   }
  },
  {
   "cell_type": "code",
   "execution_count": null,
   "outputs": [],
   "source": [],
   "metadata": {
    "collapsed": false,
    "pycharm": {
     "name": "#%%\n"
    }
   }
  },
  {
   "cell_type": "markdown",
   "source": [
    "### 5.7 ¿Cuál es la categoria de tienda con mayor cantidad de transacciones fraudulentas?. Mostrar el nombre de la categoria y la cantidad de transacciones fraudulentas. Mostrar SOLO la categoria con mayor cantidad de transacciones fraudulentas."
   ],
   "metadata": {
    "collapsed": false,
    "pycharm": {
     "name": "#%% md\n"
    }
   }
  },
  {
   "cell_type": "code",
   "execution_count": null,
   "outputs": [],
   "source": [],
   "metadata": {
    "collapsed": false,
    "pycharm": {
     "name": "#%%\n"
    }
   }
  },
  {
   "cell_type": "markdown",
   "source": [
    "### 5.8 ¿Cuál es el monto promedio de las transacciones fraudulentas por mes? Mostrar el monto promedio y el mes."
   ],
   "metadata": {
    "collapsed": false,
    "pycharm": {
     "name": "#%% md\n"
    }
   }
  },
  {
   "cell_type": "code",
   "execution_count": null,
   "outputs": [],
   "source": [],
   "metadata": {
    "collapsed": false,
    "pycharm": {
     "name": "#%%\n"
    }
   }
  },
  {
   "cell_type": "markdown",
   "source": [
    "### 5.9 ¿Cuál es el cliente que más transacciones fraudulentas realizó? Mostrar el nombre del cliente y la cantidad de transacciones fraudulentas."
   ],
   "metadata": {
    "collapsed": false,
    "pycharm": {
     "name": "#%% md\n"
    }
   }
  },
  {
   "cell_type": "code",
   "execution_count": null,
   "outputs": [],
   "source": [],
   "metadata": {
    "collapsed": false,
    "pycharm": {
     "name": "#%%\n"
    }
   }
  }
 ],
 "metadata": {
  "kernelspec": {
   "display_name": "Python 3",
   "language": "python",
   "name": "python3"
  },
  "language_info": {
   "codemirror_mode": {
    "name": "ipython",
    "version": 2
   },
   "file_extension": ".py",
   "mimetype": "text/x-python",
   "name": "python",
   "nbconvert_exporter": "python",
   "pygments_lexer": "ipython2",
   "version": "2.7.6"
  }
 },
 "nbformat": 4,
 "nbformat_minor": 0
}