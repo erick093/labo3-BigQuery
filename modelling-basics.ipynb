{
 "cells": [
  {
   "cell_type": "markdown",
   "source": [
    "# Modelamiento de datos"
   ],
   "metadata": {
    "collapsed": false,
    "pycharm": {
     "name": "#%% md\n"
    }
   }
  },
  {
   "cell_type": "markdown",
   "source": [
    "El modelamiento de datos es el proceso de crear un modelo de datos para almacenar datos en una base de datos. Este modelo de datos define cómo se van a almacenar los datos en la base de datos. El modelamiento de datos se puede realizar de dos formas: modelamiento relacional y modelamiento dimensional. En este laboratorio, vamos a realizar el **modelamiento dimensional de los datos.**"
   ],
   "metadata": {
    "collapsed": false,
    "pycharm": {
     "name": "#%% md\n"
    }
   }
  },
  {
   "cell_type": "markdown",
   "source": [
    "## 1. Preparación del entorno"
   ],
   "metadata": {
    "collapsed": false,
    "pycharm": {
     "name": "#%% md\n"
    }
   }
  },
  {
   "cell_type": "code",
   "execution_count": 2,
   "outputs": [
    {
     "name": "stdout",
     "output_type": "stream",
     "text": [
      "/home/jovyan\r\n"
     ]
    }
   ],
   "source": [
    "# get the current working directory\n",
    "!pwd"
   ],
   "metadata": {
    "collapsed": false,
    "pycharm": {
     "name": "#%%\n"
    }
   }
  },
  {
   "cell_type": "code",
   "execution_count": 3,
   "outputs": [],
   "source": [
    "# Define if we are working remotely or not, remotely means the IDE is connected to the jupyter server  in the docker container\n",
    "working_remotely = True\n",
    "base_dir = 'work/' if working_remotely else ''"
   ],
   "metadata": {
    "collapsed": false,
    "pycharm": {
     "name": "#%%\n"
    }
   }
  },
  {
   "cell_type": "code",
   "execution_count": 27,
   "outputs": [
    {
     "name": "stdout",
     "output_type": "stream",
     "text": [
      "--2023-11-17 17:01:51--  https://storage.googleapis.com/data-23/retail.zip\r\n",
      "Resolving storage.googleapis.com (storage.googleapis.com)... 142.251.39.123, 172.217.23.219, 216.58.208.123, ...\r\n",
      "Connecting to storage.googleapis.com (storage.googleapis.com)|142.251.39.123|:443... connected.\r\n",
      "HTTP request sent, awaiting response... 200 OK\r\n",
      "Length: 21999858 (21M) [application/x-zip-compressed]\r\n",
      "Saving to: ‘retail.zip’\r\n",
      "\r\n",
      "retail.zip          100%[===================>]  20.98M  11.1MB/s    in 1.9s    \r\n",
      "\r\n",
      "2023-11-17 17:01:54 (11.1 MB/s) - ‘retail.zip’ saved [21999858/21999858]\r\n",
      "\r\n",
      "Archive:  retail.zip\r\n",
      "  inflating: address.csv             \r\n",
      "  inflating: city.csv                \r\n",
      "  inflating: customer.csv            \r\n",
      "  inflating: merchant.csv            \r\n",
      "  inflating: transaction.csv         \r\n"
     ]
    }
   ],
   "source": [
    "# download the dataset for the retail store, unzip the csv files, use the base_dir variable to save the file in the correct folder\n",
    "!cd {base_dir}data/ && wget https://storage.googleapis.com/data-23/retail.zip && unzip retail.zip && rm retail.zip"
   ],
   "metadata": {
    "collapsed": false,
    "pycharm": {
     "name": "#%%\n"
    }
   }
  },
  {
   "cell_type": "code",
   "execution_count": 3,
   "outputs": [
    {
     "name": "stdout",
     "output_type": "stream",
     "text": [
      "2023-11-17 13:12:04,202 - root - INFO - Reading data from work/data/address.csv\r\n",
      "2023-11-17 13:12:04,215 - root - INFO - Creating the database connection\r\n",
      "2023-11-17 13:12:04,245 - root - INFO - Populating the address table\r\n"
     ]
    }
   ],
   "source": [
    "!python {base_dir}populate_tables.py -c {base_dir}db.ini -d {base_dir}data/address.csv -t address"
   ],
   "metadata": {
    "collapsed": false,
    "pycharm": {
     "name": "#%%\n"
    }
   }
  },
  {
   "cell_type": "code",
   "execution_count": 4,
   "outputs": [
    {
     "name": "stdout",
     "output_type": "stream",
     "text": [
      "2023-11-17 13:12:05,704 - root - INFO - Reading data from work/data/city.csv\r\n",
      "2023-11-17 13:12:05,716 - root - INFO - Creating the database connection\r\n",
      "2023-11-17 13:12:05,738 - root - INFO - Populating the city table\r\n"
     ]
    }
   ],
   "source": [
    "!python {base_dir}populate_tables.py -c {base_dir}db.ini -d {base_dir}data/city.csv -t city"
   ],
   "metadata": {
    "collapsed": false,
    "pycharm": {
     "name": "#%%\n"
    }
   }
  },
  {
   "cell_type": "code",
   "execution_count": 5,
   "outputs": [
    {
     "name": "stdout",
     "output_type": "stream",
     "text": [
      "2023-11-17 13:12:06,959 - root - INFO - Reading data from work/data/customer.csv\r\n",
      "2023-11-17 13:12:06,970 - root - INFO - Creating the database connection\r\n",
      "2023-11-17 13:12:06,992 - root - INFO - Populating the customer table\r\n"
     ]
    }
   ],
   "source": [
    "!python {base_dir}populate_tables.py -c {base_dir}db.ini -d {base_dir}data/customer.csv -t customer"
   ],
   "metadata": {
    "collapsed": false,
    "pycharm": {
     "name": "#%%\n"
    }
   }
  },
  {
   "cell_type": "code",
   "execution_count": 6,
   "outputs": [
    {
     "name": "stdout",
     "output_type": "stream",
     "text": [
      "2023-11-17 13:12:17,964 - root - INFO - Reading data from work/data/merchant.csv\r\n",
      "2023-11-17 13:12:17,978 - root - INFO - Creating the database connection\r\n",
      "2023-11-17 13:12:18,000 - root - INFO - Populating the merchant table\r\n"
     ]
    }
   ],
   "source": [
    "!python {base_dir}populate_tables.py -c {base_dir}db.ini -d {base_dir}data/merchant.csv -t merchant"
   ],
   "metadata": {
    "collapsed": false,
    "pycharm": {
     "name": "#%%\n"
    }
   }
  },
  {
   "cell_type": "code",
   "execution_count": 7,
   "outputs": [
    {
     "name": "stdout",
     "output_type": "stream",
     "text": [
      "2023-11-17 13:12:32,301 - root - INFO - Reading data from work/data/transaction.csv\r\n",
      "2023-11-17 13:12:32,857 - root - INFO - Creating the database connection\r\n",
      "2023-11-17 13:12:32,879 - root - INFO - Populating the transaction table\r\n"
     ]
    }
   ],
   "source": [
    "!python {base_dir}populate_tables.py -c {base_dir}db.ini -d {base_dir}data/transaction.csv -t transaction"
   ],
   "metadata": {
    "collapsed": false,
    "pycharm": {
     "name": "#%%\n"
    }
   }
  },
  {
   "cell_type": "code",
   "execution_count": 8,
   "outputs": [],
   "source": [
    "import pandas as pd\n",
    "import matplotlib.pyplot as plt"
   ],
   "metadata": {
    "collapsed": false,
    "pycharm": {
     "name": "#%%\n"
    }
   }
  },
  {
   "cell_type": "markdown",
   "source": [],
   "metadata": {
    "collapsed": false,
    "pycharm": {
     "name": "#%% md\n"
    }
   }
  },
  {
   "cell_type": "markdown",
   "source": [
    "## 2.1 Conectando a PostgreSQL"
   ],
   "metadata": {
    "collapsed": false,
    "pycharm": {
     "name": "#%% md\n"
    }
   }
  },
  {
   "cell_type": "code",
   "execution_count": 4,
   "outputs": [],
   "source": [
    "import configparser\n",
    "from sqlalchemy import create_engine, text"
   ],
   "metadata": {
    "collapsed": false,
    "pycharm": {
     "name": "#%%\n"
    }
   }
  },
  {
   "cell_type": "code",
   "execution_count": 5,
   "outputs": [],
   "source": [
    "# reading the db config file\n",
    "config = configparser.ConfigParser()\n",
    "config.read(f'{base_dir}db.ini')\n",
    "\n",
    "# profile name\n",
    "profile = \"postgres\"\n",
    "\n",
    "# getting the db config\n",
    "POSTGRES_USERNAME = config[profile]['username']\n",
    "POSTGRES_PASSWORD = config[profile]['password']\n",
    "POSTGRES_HOST = config[profile]['host']\n",
    "POSTGRES_PORT = config[profile]['port']\n",
    "POSTGRES_DATABASE = config[profile]['database']\n",
    "\n",
    "# creating the connection string\n",
    "postgres_connection_string = f'postgresql://{POSTGRES_USERNAME}:{POSTGRES_PASSWORD}@{POSTGRES_HOST}:{POSTGRES_PORT}/{POSTGRES_DATABASE}'\n",
    "\n",
    "engine =  create_engine(postgres_connection_string)\n",
    "conn = engine.connect()"
   ],
   "metadata": {
    "collapsed": false,
    "pycharm": {
     "name": "#%%\n"
    }
   }
  },
  {
   "cell_type": "code",
   "execution_count": 6,
   "outputs": [
    {
     "data": {
      "text/plain": "<sqlalchemy.engine.base.Connection at 0x7f1bfafb3b20>"
     },
     "execution_count": 6,
     "metadata": {},
     "output_type": "execute_result"
    }
   ],
   "source": [
    "conn.execution_options(isolation_level=\"AUTOCOMMIT\")"
   ],
   "metadata": {
    "collapsed": false,
    "pycharm": {
     "name": "#%%\n"
    }
   }
  },
  {
   "cell_type": "markdown",
   "source": [
    "Ahora leeremos cada una de las tablas de la base de datos y las guardaremos en un DataFrame de pandas."
   ],
   "metadata": {
    "collapsed": false,
    "pycharm": {
     "name": "#%% md\n"
    }
   }
  },
  {
   "cell_type": "code",
   "execution_count": 15,
   "outputs": [
    {
     "data": {
      "text/plain": "   cust_id first_name last_name  credit_card_number gender  \\\n0        1       Mary      Diaz         60416207185      F   \n1      679    Jeffrey    Powers         60422928733      M   \n2     1348      Jason      Gray         60423098130      M   \n3     1576    Bradley  Martinez         60427851591      M   \n4     1791      David     White         60487002085      M   \n5     2030      Karen   Johnson         60490596305      F   \n6     2485    Randall    Dillon         60495593109      M   \n7     2709     Robert    Flores        501802953619      M   \n8     3344     Sandra    Davies        501828204849      F   \n9     3562      Corey     Jones        501831082224      M   \n\n                                                 job date_of_birth  addr_id  \n0                        Information systems manager    1986-02-17   552616  \n1                           Secondary school teacher    1942-04-02   224336  \n2                                  Barrister's clerk    1958-07-28   496885  \n3                             Politician's assistant    1976-06-30   201281  \n4                         Horticulturist, commercial    1972-08-15   379665  \n5                           Programmer, applications    1963-05-19   254192  \n6                         Television camera operator    1942-11-24   257975  \n7                                Call centre manager    1958-09-20   189139  \n8                                  Buyer, industrial    1958-10-26   181573  \n9  Armed forces logistics/support/administrative ...    1962-05-04   406365  ",
      "text/html": "<div>\n<style scoped>\n    .dataframe tbody tr th:only-of-type {\n        vertical-align: middle;\n    }\n\n    .dataframe tbody tr th {\n        vertical-align: top;\n    }\n\n    .dataframe thead th {\n        text-align: right;\n    }\n</style>\n<table border=\"1\" class=\"dataframe\">\n  <thead>\n    <tr style=\"text-align: right;\">\n      <th></th>\n      <th>cust_id</th>\n      <th>first_name</th>\n      <th>last_name</th>\n      <th>credit_card_number</th>\n      <th>gender</th>\n      <th>job</th>\n      <th>date_of_birth</th>\n      <th>addr_id</th>\n    </tr>\n  </thead>\n  <tbody>\n    <tr>\n      <th>0</th>\n      <td>1</td>\n      <td>Mary</td>\n      <td>Diaz</td>\n      <td>60416207185</td>\n      <td>F</td>\n      <td>Information systems manager</td>\n      <td>1986-02-17</td>\n      <td>552616</td>\n    </tr>\n    <tr>\n      <th>1</th>\n      <td>679</td>\n      <td>Jeffrey</td>\n      <td>Powers</td>\n      <td>60422928733</td>\n      <td>M</td>\n      <td>Secondary school teacher</td>\n      <td>1942-04-02</td>\n      <td>224336</td>\n    </tr>\n    <tr>\n      <th>2</th>\n      <td>1348</td>\n      <td>Jason</td>\n      <td>Gray</td>\n      <td>60423098130</td>\n      <td>M</td>\n      <td>Barrister's clerk</td>\n      <td>1958-07-28</td>\n      <td>496885</td>\n    </tr>\n    <tr>\n      <th>3</th>\n      <td>1576</td>\n      <td>Bradley</td>\n      <td>Martinez</td>\n      <td>60427851591</td>\n      <td>M</td>\n      <td>Politician's assistant</td>\n      <td>1976-06-30</td>\n      <td>201281</td>\n    </tr>\n    <tr>\n      <th>4</th>\n      <td>1791</td>\n      <td>David</td>\n      <td>White</td>\n      <td>60487002085</td>\n      <td>M</td>\n      <td>Horticulturist, commercial</td>\n      <td>1972-08-15</td>\n      <td>379665</td>\n    </tr>\n    <tr>\n      <th>5</th>\n      <td>2030</td>\n      <td>Karen</td>\n      <td>Johnson</td>\n      <td>60490596305</td>\n      <td>F</td>\n      <td>Programmer, applications</td>\n      <td>1963-05-19</td>\n      <td>254192</td>\n    </tr>\n    <tr>\n      <th>6</th>\n      <td>2485</td>\n      <td>Randall</td>\n      <td>Dillon</td>\n      <td>60495593109</td>\n      <td>M</td>\n      <td>Television camera operator</td>\n      <td>1942-11-24</td>\n      <td>257975</td>\n    </tr>\n    <tr>\n      <th>7</th>\n      <td>2709</td>\n      <td>Robert</td>\n      <td>Flores</td>\n      <td>501802953619</td>\n      <td>M</td>\n      <td>Call centre manager</td>\n      <td>1958-09-20</td>\n      <td>189139</td>\n    </tr>\n    <tr>\n      <th>8</th>\n      <td>3344</td>\n      <td>Sandra</td>\n      <td>Davies</td>\n      <td>501828204849</td>\n      <td>F</td>\n      <td>Buyer, industrial</td>\n      <td>1958-10-26</td>\n      <td>181573</td>\n    </tr>\n    <tr>\n      <th>9</th>\n      <td>3562</td>\n      <td>Corey</td>\n      <td>Jones</td>\n      <td>501831082224</td>\n      <td>M</td>\n      <td>Armed forces logistics/support/administrative ...</td>\n      <td>1962-05-04</td>\n      <td>406365</td>\n    </tr>\n  </tbody>\n</table>\n</div>"
     },
     "execution_count": 15,
     "metadata": {},
     "output_type": "execute_result"
    }
   ],
   "source": [
    "df_customer = pd.read_sql_table('customer', conn)\n",
    "df_customer.head(10)"
   ],
   "metadata": {
    "collapsed": false,
    "pycharm": {
     "name": "#%%\n"
    }
   }
  },
  {
   "cell_type": "code",
   "execution_count": 16,
   "outputs": [
    {
     "data": {
      "text/plain": "   addr_id                      street    zip      lat      long  city_id\n0        1          0005 Morrison Land  74047  35.8896  -96.0887   333913\n1      674          000 Jennifer Mills  98027  47.4974 -122.0107   239877\n2     1723        00315 Ashley Valleys  67020  38.0261  -97.6666    72289\n3     2226            0043 Henry Plaza  36009  31.5710  -86.2743    58889\n4     2675            005 Cody Estates  40202  38.2507  -85.7476   287117\n5     3325  0069 Robin Brooks Apt. 695  49628  44.5995  -86.2141   147996\n6     4576    007 Tonya Isle Suite 299  52658  40.7067  -91.2268   542124\n7     4582         00821 Joanna Meadow  53926  43.6718  -89.1918   121020\n8     4795         0107 Clements Point  84003  40.3928 -111.7941    11703\n9     5212            010 Salazar Walk  41810  37.1788  -82.6950   116019",
      "text/html": "<div>\n<style scoped>\n    .dataframe tbody tr th:only-of-type {\n        vertical-align: middle;\n    }\n\n    .dataframe tbody tr th {\n        vertical-align: top;\n    }\n\n    .dataframe thead th {\n        text-align: right;\n    }\n</style>\n<table border=\"1\" class=\"dataframe\">\n  <thead>\n    <tr style=\"text-align: right;\">\n      <th></th>\n      <th>addr_id</th>\n      <th>street</th>\n      <th>zip</th>\n      <th>lat</th>\n      <th>long</th>\n      <th>city_id</th>\n    </tr>\n  </thead>\n  <tbody>\n    <tr>\n      <th>0</th>\n      <td>1</td>\n      <td>0005 Morrison Land</td>\n      <td>74047</td>\n      <td>35.8896</td>\n      <td>-96.0887</td>\n      <td>333913</td>\n    </tr>\n    <tr>\n      <th>1</th>\n      <td>674</td>\n      <td>000 Jennifer Mills</td>\n      <td>98027</td>\n      <td>47.4974</td>\n      <td>-122.0107</td>\n      <td>239877</td>\n    </tr>\n    <tr>\n      <th>2</th>\n      <td>1723</td>\n      <td>00315 Ashley Valleys</td>\n      <td>67020</td>\n      <td>38.0261</td>\n      <td>-97.6666</td>\n      <td>72289</td>\n    </tr>\n    <tr>\n      <th>3</th>\n      <td>2226</td>\n      <td>0043 Henry Plaza</td>\n      <td>36009</td>\n      <td>31.5710</td>\n      <td>-86.2743</td>\n      <td>58889</td>\n    </tr>\n    <tr>\n      <th>4</th>\n      <td>2675</td>\n      <td>005 Cody Estates</td>\n      <td>40202</td>\n      <td>38.2507</td>\n      <td>-85.7476</td>\n      <td>287117</td>\n    </tr>\n    <tr>\n      <th>5</th>\n      <td>3325</td>\n      <td>0069 Robin Brooks Apt. 695</td>\n      <td>49628</td>\n      <td>44.5995</td>\n      <td>-86.2141</td>\n      <td>147996</td>\n    </tr>\n    <tr>\n      <th>6</th>\n      <td>4576</td>\n      <td>007 Tonya Isle Suite 299</td>\n      <td>52658</td>\n      <td>40.7067</td>\n      <td>-91.2268</td>\n      <td>542124</td>\n    </tr>\n    <tr>\n      <th>7</th>\n      <td>4582</td>\n      <td>00821 Joanna Meadow</td>\n      <td>53926</td>\n      <td>43.6718</td>\n      <td>-89.1918</td>\n      <td>121020</td>\n    </tr>\n    <tr>\n      <th>8</th>\n      <td>4795</td>\n      <td>0107 Clements Point</td>\n      <td>84003</td>\n      <td>40.3928</td>\n      <td>-111.7941</td>\n      <td>11703</td>\n    </tr>\n    <tr>\n      <th>9</th>\n      <td>5212</td>\n      <td>010 Salazar Walk</td>\n      <td>41810</td>\n      <td>37.1788</td>\n      <td>-82.6950</td>\n      <td>116019</td>\n    </tr>\n  </tbody>\n</table>\n</div>"
     },
     "execution_count": 16,
     "metadata": {},
     "output_type": "execute_result"
    }
   ],
   "source": [
    "df_address = pd.read_sql_table('address', conn)\n",
    "df_address.head(10)"
   ],
   "metadata": {
    "collapsed": false,
    "pycharm": {
     "name": "#%%\n"
    }
   }
  },
  {
   "cell_type": "code",
   "execution_count": 17,
   "outputs": [
    {
     "data": {
      "text/plain": "   city_id    city_name state  city_population\n0        1      Achille    OK              608\n1      209      Acworth    NH              477\n2     1037        Adams    WI             3508\n3     1260        Afton    MI              937\n4     2157        Akron    OH           272134\n5     2379       Albany    NY           151022\n6     2802  Albuquerque    NM           641349\n7     3256        Alder    MT              286\n8     3697        Aledo    TX            13602\n9     4132   Alexandria    VA           321490",
      "text/html": "<div>\n<style scoped>\n    .dataframe tbody tr th:only-of-type {\n        vertical-align: middle;\n    }\n\n    .dataframe tbody tr th {\n        vertical-align: top;\n    }\n\n    .dataframe thead th {\n        text-align: right;\n    }\n</style>\n<table border=\"1\" class=\"dataframe\">\n  <thead>\n    <tr style=\"text-align: right;\">\n      <th></th>\n      <th>city_id</th>\n      <th>city_name</th>\n      <th>state</th>\n      <th>city_population</th>\n    </tr>\n  </thead>\n  <tbody>\n    <tr>\n      <th>0</th>\n      <td>1</td>\n      <td>Achille</td>\n      <td>OK</td>\n      <td>608</td>\n    </tr>\n    <tr>\n      <th>1</th>\n      <td>209</td>\n      <td>Acworth</td>\n      <td>NH</td>\n      <td>477</td>\n    </tr>\n    <tr>\n      <th>2</th>\n      <td>1037</td>\n      <td>Adams</td>\n      <td>WI</td>\n      <td>3508</td>\n    </tr>\n    <tr>\n      <th>3</th>\n      <td>1260</td>\n      <td>Afton</td>\n      <td>MI</td>\n      <td>937</td>\n    </tr>\n    <tr>\n      <th>4</th>\n      <td>2157</td>\n      <td>Akron</td>\n      <td>OH</td>\n      <td>272134</td>\n    </tr>\n    <tr>\n      <th>5</th>\n      <td>2379</td>\n      <td>Albany</td>\n      <td>NY</td>\n      <td>151022</td>\n    </tr>\n    <tr>\n      <th>6</th>\n      <td>2802</td>\n      <td>Albuquerque</td>\n      <td>NM</td>\n      <td>641349</td>\n    </tr>\n    <tr>\n      <th>7</th>\n      <td>3256</td>\n      <td>Alder</td>\n      <td>MT</td>\n      <td>286</td>\n    </tr>\n    <tr>\n      <th>8</th>\n      <td>3697</td>\n      <td>Aledo</td>\n      <td>TX</td>\n      <td>13602</td>\n    </tr>\n    <tr>\n      <th>9</th>\n      <td>4132</td>\n      <td>Alexandria</td>\n      <td>VA</td>\n      <td>321490</td>\n    </tr>\n  </tbody>\n</table>\n</div>"
     },
     "execution_count": 17,
     "metadata": {},
     "output_type": "execute_result"
    }
   ],
   "source": [
    "df_city = pd.read_sql_table('city', conn)\n",
    "df_city.head(10)"
   ],
   "metadata": {
    "collapsed": false,
    "pycharm": {
     "name": "#%%\n"
    }
   }
  },
  {
   "cell_type": "code",
   "execution_count": 18,
   "outputs": [
    {
     "data": {
      "text/plain": "   merchant_id                          merchant_name        category  \\\n0            1                    fraud_Abbott-Rogahn   entertainment   \n1          804                   fraud_Abbott-Steuber   personal_care   \n2         1570               fraud_Abernathy and Sons     food_dining   \n3         2332                      fraud_Abshire PLC   entertainment   \n4         3170                    fraud_Adams-Barrows  health_fitness   \n5         3959       fraud_Adams, Kovacek and Kuhlman     grocery_net   \n6         4373  fraud_Altenwerth, Cartwright and Koss    shopping_net   \n7         5224               fraud_Altenwerth-Kilback            home   \n8         6315                fraud_Ankunding-Carroll          travel   \n9         6649                    fraud_Ankunding LLC    shopping_net   \n\n         lat        long  \n0  36.549810  -98.190155  \n1  34.535681  -86.228169  \n2  33.049522  -90.030952  \n3  41.627550  -85.165781  \n4  41.502652  -73.721972  \n5  39.274435  -86.277941  \n6  45.820055  -94.086909  \n7  38.442441  -77.489253  \n8  44.425235  -68.862994  \n9  38.954353 -100.615743  ",
      "text/html": "<div>\n<style scoped>\n    .dataframe tbody tr th:only-of-type {\n        vertical-align: middle;\n    }\n\n    .dataframe tbody tr th {\n        vertical-align: top;\n    }\n\n    .dataframe thead th {\n        text-align: right;\n    }\n</style>\n<table border=\"1\" class=\"dataframe\">\n  <thead>\n    <tr style=\"text-align: right;\">\n      <th></th>\n      <th>merchant_id</th>\n      <th>merchant_name</th>\n      <th>category</th>\n      <th>lat</th>\n      <th>long</th>\n    </tr>\n  </thead>\n  <tbody>\n    <tr>\n      <th>0</th>\n      <td>1</td>\n      <td>fraud_Abbott-Rogahn</td>\n      <td>entertainment</td>\n      <td>36.549810</td>\n      <td>-98.190155</td>\n    </tr>\n    <tr>\n      <th>1</th>\n      <td>804</td>\n      <td>fraud_Abbott-Steuber</td>\n      <td>personal_care</td>\n      <td>34.535681</td>\n      <td>-86.228169</td>\n    </tr>\n    <tr>\n      <th>2</th>\n      <td>1570</td>\n      <td>fraud_Abernathy and Sons</td>\n      <td>food_dining</td>\n      <td>33.049522</td>\n      <td>-90.030952</td>\n    </tr>\n    <tr>\n      <th>3</th>\n      <td>2332</td>\n      <td>fraud_Abshire PLC</td>\n      <td>entertainment</td>\n      <td>41.627550</td>\n      <td>-85.165781</td>\n    </tr>\n    <tr>\n      <th>4</th>\n      <td>3170</td>\n      <td>fraud_Adams-Barrows</td>\n      <td>health_fitness</td>\n      <td>41.502652</td>\n      <td>-73.721972</td>\n    </tr>\n    <tr>\n      <th>5</th>\n      <td>3959</td>\n      <td>fraud_Adams, Kovacek and Kuhlman</td>\n      <td>grocery_net</td>\n      <td>39.274435</td>\n      <td>-86.277941</td>\n    </tr>\n    <tr>\n      <th>6</th>\n      <td>4373</td>\n      <td>fraud_Altenwerth, Cartwright and Koss</td>\n      <td>shopping_net</td>\n      <td>45.820055</td>\n      <td>-94.086909</td>\n    </tr>\n    <tr>\n      <th>7</th>\n      <td>5224</td>\n      <td>fraud_Altenwerth-Kilback</td>\n      <td>home</td>\n      <td>38.442441</td>\n      <td>-77.489253</td>\n    </tr>\n    <tr>\n      <th>8</th>\n      <td>6315</td>\n      <td>fraud_Ankunding-Carroll</td>\n      <td>travel</td>\n      <td>44.425235</td>\n      <td>-68.862994</td>\n    </tr>\n    <tr>\n      <th>9</th>\n      <td>6649</td>\n      <td>fraud_Ankunding LLC</td>\n      <td>shopping_net</td>\n      <td>38.954353</td>\n      <td>-100.615743</td>\n    </tr>\n  </tbody>\n</table>\n</div>"
     },
     "execution_count": 18,
     "metadata": {},
     "output_type": "execute_result"
    }
   ],
   "source": [
    "df_merchant = pd.read_sql_table('merchant', conn)\n",
    "df_merchant.head(10)"
   ],
   "metadata": {
    "collapsed": false,
    "pycharm": {
     "name": "#%%\n"
    }
   }
  },
  {
   "cell_type": "code",
   "execution_count": 19,
   "outputs": [
    {
     "data": {
      "text/plain": "                     transaction_id  amount   transfer_timestamp   unix_time  \\\n0  00005fc67bb45d98730559d40c9ca601      11  2020-10-11 14:40:55  1381502455   \n1  00006889944d759855fea412e09ecdd8     168  2020-10-08 17:15:17  1381252517   \n2  00008f7ba50172eef2b057a0e06aa142      33  2020-12-07 07:50:28  1386402628   \n3  0000948be671f10fc10b2aee0d67edee      65  2020-10-06 21:05:18  1381093518   \n4  0000ad2f657e05cba8e1f3654c3317a4      87  2020-06-30 07:16:26  1372576586   \n5  0000e82fd9660b8069fd16845d540615       7  2020-07-29 02:26:07  1375064767   \n6  00013a9a862695102316e8d566462618      78  2020-10-04 06:14:12  1380867252   \n7  00013fa083c116fed2268a7db6c6506b       5  2020-11-10 20:23:51  1384115031   \n8  00017954fb9236f8b82ea2237d521f92       7  2020-08-19 15:13:40  1376925220   \n9  00017fcc7a37796b5ebf048464185744       4  2020-07-28 07:17:28  1374995848   \n\n   is_fraud  cust_id  merchant_id  \n0         0   339854       449814  \n1         0     4910       509658  \n2         0    26930       307925  \n3         0   164595       368814  \n4         0   400234       352454  \n5         0   502550        52205  \n6         0   550885       467602  \n7         0   138630       354188  \n8         0   286411       253276  \n9         0    77403       339746  ",
      "text/html": "<div>\n<style scoped>\n    .dataframe tbody tr th:only-of-type {\n        vertical-align: middle;\n    }\n\n    .dataframe tbody tr th {\n        vertical-align: top;\n    }\n\n    .dataframe thead th {\n        text-align: right;\n    }\n</style>\n<table border=\"1\" class=\"dataframe\">\n  <thead>\n    <tr style=\"text-align: right;\">\n      <th></th>\n      <th>transaction_id</th>\n      <th>amount</th>\n      <th>transfer_timestamp</th>\n      <th>unix_time</th>\n      <th>is_fraud</th>\n      <th>cust_id</th>\n      <th>merchant_id</th>\n    </tr>\n  </thead>\n  <tbody>\n    <tr>\n      <th>0</th>\n      <td>00005fc67bb45d98730559d40c9ca601</td>\n      <td>11</td>\n      <td>2020-10-11 14:40:55</td>\n      <td>1381502455</td>\n      <td>0</td>\n      <td>339854</td>\n      <td>449814</td>\n    </tr>\n    <tr>\n      <th>1</th>\n      <td>00006889944d759855fea412e09ecdd8</td>\n      <td>168</td>\n      <td>2020-10-08 17:15:17</td>\n      <td>1381252517</td>\n      <td>0</td>\n      <td>4910</td>\n      <td>509658</td>\n    </tr>\n    <tr>\n      <th>2</th>\n      <td>00008f7ba50172eef2b057a0e06aa142</td>\n      <td>33</td>\n      <td>2020-12-07 07:50:28</td>\n      <td>1386402628</td>\n      <td>0</td>\n      <td>26930</td>\n      <td>307925</td>\n    </tr>\n    <tr>\n      <th>3</th>\n      <td>0000948be671f10fc10b2aee0d67edee</td>\n      <td>65</td>\n      <td>2020-10-06 21:05:18</td>\n      <td>1381093518</td>\n      <td>0</td>\n      <td>164595</td>\n      <td>368814</td>\n    </tr>\n    <tr>\n      <th>4</th>\n      <td>0000ad2f657e05cba8e1f3654c3317a4</td>\n      <td>87</td>\n      <td>2020-06-30 07:16:26</td>\n      <td>1372576586</td>\n      <td>0</td>\n      <td>400234</td>\n      <td>352454</td>\n    </tr>\n    <tr>\n      <th>5</th>\n      <td>0000e82fd9660b8069fd16845d540615</td>\n      <td>7</td>\n      <td>2020-07-29 02:26:07</td>\n      <td>1375064767</td>\n      <td>0</td>\n      <td>502550</td>\n      <td>52205</td>\n    </tr>\n    <tr>\n      <th>6</th>\n      <td>00013a9a862695102316e8d566462618</td>\n      <td>78</td>\n      <td>2020-10-04 06:14:12</td>\n      <td>1380867252</td>\n      <td>0</td>\n      <td>550885</td>\n      <td>467602</td>\n    </tr>\n    <tr>\n      <th>7</th>\n      <td>00013fa083c116fed2268a7db6c6506b</td>\n      <td>5</td>\n      <td>2020-11-10 20:23:51</td>\n      <td>1384115031</td>\n      <td>0</td>\n      <td>138630</td>\n      <td>354188</td>\n    </tr>\n    <tr>\n      <th>8</th>\n      <td>00017954fb9236f8b82ea2237d521f92</td>\n      <td>7</td>\n      <td>2020-08-19 15:13:40</td>\n      <td>1376925220</td>\n      <td>0</td>\n      <td>286411</td>\n      <td>253276</td>\n    </tr>\n    <tr>\n      <th>9</th>\n      <td>00017fcc7a37796b5ebf048464185744</td>\n      <td>4</td>\n      <td>2020-07-28 07:17:28</td>\n      <td>1374995848</td>\n      <td>0</td>\n      <td>77403</td>\n      <td>339746</td>\n    </tr>\n  </tbody>\n</table>\n</div>"
     },
     "execution_count": 19,
     "metadata": {},
     "output_type": "execute_result"
    }
   ],
   "source": [
    "df_transaction = pd.read_sql_table('transaction', conn)\n",
    "df_transaction.head(10)"
   ],
   "metadata": {
    "collapsed": false,
    "pycharm": {
     "name": "#%%\n"
    }
   }
  },
  {
   "cell_type": "markdown",
   "source": [
    "## 3 Modelando datos"
   ],
   "metadata": {
    "collapsed": false,
    "pycharm": {
     "name": "#%% md\n"
    }
   }
  },
  {
   "cell_type": "markdown",
   "source": [
    "### 3.1. Modelamiento dimensional - Star Schema"
   ],
   "metadata": {
    "collapsed": false,
    "pycharm": {
     "name": "#%% md\n"
    }
   }
  },
  {
   "cell_type": "markdown",
   "source": [
    "El modelo de datos es el siguiente:\n",
    "\n",
    "![](image/olap.png)"
   ],
   "metadata": {
    "collapsed": false,
    "pycharm": {
     "name": "#%% md\n"
    }
   }
  },
  {
   "cell_type": "markdown",
   "source": [
    "En esta seccion vamos a realizar el modelamiento dimensional de los datos. Para eso, vamos a crear las tablas dimensionales que daran contexto e informacion a la tabla de facts. Estas tablas dimensionales son:\n",
    "\n",
    "- `dim_time`\n",
    "- `dim_merchant`\n",
    "- `dim_customer`\n",
    "- `dim_address`\n",
    "Y finalmente, la tabla de facts es `fact_transaction`.\n"
   ],
   "metadata": {
    "collapsed": false,
    "pycharm": {
     "name": "#%% md\n"
    }
   }
  },
  {
   "cell_type": "code",
   "execution_count": 12,
   "outputs": [
    {
     "data": {
      "text/plain": "<sqlalchemy.engine.cursor.CursorResult at 0x7f1c1cb2a9e0>"
     },
     "execution_count": 12,
     "metadata": {},
     "output_type": "execute_result"
    }
   ],
   "source": [
    "# Creamos la tabla dim_merchant de la tabla merchant, merchant id es la llave primaria\n",
    "query = text(\"\"\"\n",
    "CREATE TABLE dim_merchant AS (\n",
    "SELECT DISTINCT ON (merchant_id)\n",
    "    merchant_name,\n",
    "    category,\n",
    "    lat,\n",
    "    long\n",
    "FROM merchant\n",
    ")\n",
    "\"\"\")\n",
    "\n",
    "# Ejecutamos la query\n",
    "conn.execute(query)"
   ],
   "metadata": {
    "collapsed": false,
    "pycharm": {
     "name": "#%%\n"
    }
   }
  },
  {
   "cell_type": "code",
   "execution_count": 13,
   "outputs": [
    {
     "data": {
      "text/plain": "              merchant_name        category        lat       long\n0       fraud_Abbott-Rogahn   entertainment  36.549810 -98.190155\n1      fraud_Abbott-Steuber   personal_care  34.535681 -86.228169\n2  fraud_Abernathy and Sons     food_dining  33.049522 -90.030952\n3         fraud_Abshire PLC   entertainment  41.627550 -85.165781\n4       fraud_Adams-Barrows  health_fitness  41.502652 -73.721972",
      "text/html": "<div>\n<style scoped>\n    .dataframe tbody tr th:only-of-type {\n        vertical-align: middle;\n    }\n\n    .dataframe tbody tr th {\n        vertical-align: top;\n    }\n\n    .dataframe thead th {\n        text-align: right;\n    }\n</style>\n<table border=\"1\" class=\"dataframe\">\n  <thead>\n    <tr style=\"text-align: right;\">\n      <th></th>\n      <th>merchant_name</th>\n      <th>category</th>\n      <th>lat</th>\n      <th>long</th>\n    </tr>\n  </thead>\n  <tbody>\n    <tr>\n      <th>0</th>\n      <td>fraud_Abbott-Rogahn</td>\n      <td>entertainment</td>\n      <td>36.549810</td>\n      <td>-98.190155</td>\n    </tr>\n    <tr>\n      <th>1</th>\n      <td>fraud_Abbott-Steuber</td>\n      <td>personal_care</td>\n      <td>34.535681</td>\n      <td>-86.228169</td>\n    </tr>\n    <tr>\n      <th>2</th>\n      <td>fraud_Abernathy and Sons</td>\n      <td>food_dining</td>\n      <td>33.049522</td>\n      <td>-90.030952</td>\n    </tr>\n    <tr>\n      <th>3</th>\n      <td>fraud_Abshire PLC</td>\n      <td>entertainment</td>\n      <td>41.627550</td>\n      <td>-85.165781</td>\n    </tr>\n    <tr>\n      <th>4</th>\n      <td>fraud_Adams-Barrows</td>\n      <td>health_fitness</td>\n      <td>41.502652</td>\n      <td>-73.721972</td>\n    </tr>\n  </tbody>\n</table>\n</div>"
     },
     "execution_count": 13,
     "metadata": {},
     "output_type": "execute_result"
    }
   ],
   "source": [
    "pd.read_sql_table('dim_merchant', conn).head(5)"
   ],
   "metadata": {
    "collapsed": false,
    "pycharm": {
     "name": "#%%\n"
    }
   }
  },
  {
   "cell_type": "code",
   "execution_count": 14,
   "outputs": [
    {
     "data": {
      "text/plain": "<sqlalchemy.engine.cursor.CursorResult at 0x7f1ad58d5720>"
     },
     "execution_count": 14,
     "metadata": {},
     "output_type": "execute_result"
    }
   ],
   "source": [
    "# Alteramos la tabla dim_merchant para agregar la llave primaria, y verificar que los tipos de datos sean correctos\n",
    "query = text(\"\"\"\n",
    "ALTER TABLE dim_merchant\n",
    "ADD COLUMN merchant_id SERIAL PRIMARY KEY,\n",
    "ALTER COLUMN merchant_name TYPE VARCHAR(255),\n",
    "ALTER COLUMN category TYPE VARCHAR(255),\n",
    "ALTER COLUMN lat TYPE FLOAT,\n",
    "ALTER COLUMN long TYPE FLOAT\n",
    "\"\"\")\n",
    "conn.execute(query)\n"
   ],
   "metadata": {
    "collapsed": false,
    "pycharm": {
     "name": "#%%\n"
    }
   }
  },
  {
   "cell_type": "code",
   "execution_count": 16,
   "outputs": [
    {
     "data": {
      "text/plain": "              merchant_name        category        lat       long  merchant_id\n0       fraud_Abbott-Rogahn   entertainment  36.549810 -98.190155            1\n1      fraud_Abbott-Steuber   personal_care  34.535681 -86.228169            2\n2  fraud_Abernathy and Sons     food_dining  33.049522 -90.030952            3\n3         fraud_Abshire PLC   entertainment  41.627550 -85.165781            4\n4       fraud_Adams-Barrows  health_fitness  41.502652 -73.721972            5",
      "text/html": "<div>\n<style scoped>\n    .dataframe tbody tr th:only-of-type {\n        vertical-align: middle;\n    }\n\n    .dataframe tbody tr th {\n        vertical-align: top;\n    }\n\n    .dataframe thead th {\n        text-align: right;\n    }\n</style>\n<table border=\"1\" class=\"dataframe\">\n  <thead>\n    <tr style=\"text-align: right;\">\n      <th></th>\n      <th>merchant_name</th>\n      <th>category</th>\n      <th>lat</th>\n      <th>long</th>\n      <th>merchant_id</th>\n    </tr>\n  </thead>\n  <tbody>\n    <tr>\n      <th>0</th>\n      <td>fraud_Abbott-Rogahn</td>\n      <td>entertainment</td>\n      <td>36.549810</td>\n      <td>-98.190155</td>\n      <td>1</td>\n    </tr>\n    <tr>\n      <th>1</th>\n      <td>fraud_Abbott-Steuber</td>\n      <td>personal_care</td>\n      <td>34.535681</td>\n      <td>-86.228169</td>\n      <td>2</td>\n    </tr>\n    <tr>\n      <th>2</th>\n      <td>fraud_Abernathy and Sons</td>\n      <td>food_dining</td>\n      <td>33.049522</td>\n      <td>-90.030952</td>\n      <td>3</td>\n    </tr>\n    <tr>\n      <th>3</th>\n      <td>fraud_Abshire PLC</td>\n      <td>entertainment</td>\n      <td>41.627550</td>\n      <td>-85.165781</td>\n      <td>4</td>\n    </tr>\n    <tr>\n      <th>4</th>\n      <td>fraud_Adams-Barrows</td>\n      <td>health_fitness</td>\n      <td>41.502652</td>\n      <td>-73.721972</td>\n      <td>5</td>\n    </tr>\n  </tbody>\n</table>\n</div>"
     },
     "execution_count": 16,
     "metadata": {},
     "output_type": "execute_result"
    }
   ],
   "source": [
    "pd.read_sql_table('dim_merchant', conn).head(5)"
   ],
   "metadata": {
    "collapsed": false,
    "pycharm": {
     "name": "#%%\n"
    }
   }
  },
  {
   "cell_type": "markdown",
   "source": [
    "Creamos las tablas dimensionales restantes y la tabla de fact.\n",
    "**Atencion-1:** La tabla de facts debe tener las llaves foraneas a las tablas dimensionales.\n",
    "**Atencion-2:** La tabla de facts debe tener la llave primaria `transaction_id`.\n",
    "**Atencion-3:** La tabla de facts debe tener el campo `is_fraud` como booleano.\n",
    "**Atencion-4:** Mostrar las primeras 5 filas de cada tabla. Usen el comando `pd.read_sql_table('table_name', conn).head(5)`\n"
   ],
   "metadata": {
    "collapsed": false,
    "pycharm": {
     "name": "#%% md\n"
    }
   }
  },
  {
   "cell_type": "code",
   "execution_count": null,
   "outputs": [],
   "source": [
    "\"\"\"Your answer here\"\"\""
   ],
   "metadata": {
    "collapsed": false,
    "pycharm": {
     "name": "#%%\n"
    }
   }
  },
  {
   "cell_type": "markdown",
   "source": [
    "### 3.2. Modelamiento Data Vault"
   ],
   "metadata": {
    "collapsed": false,
    "pycharm": {
     "name": "#%% md\n"
    }
   }
  },
  {
   "cell_type": "markdown",
   "source": [
    "El modelamiento Data Vault es el siguiente:\n",
    "\n",
    "Tabla `hub_customer`:\n",
    "\n",
    "| hashkey_customer | customer_id | load_timestamp |\n",
    "|------------------|-------------|----------------|\n",
    "|                  |             |                |\n",
    "\n",
    "Tabla `hub_merchant`:\n",
    "\n",
    "| hashkey_merchant | merchant_id | load_timestamp |\n",
    "|------------------|-------------|----------------|\n",
    "|                  |             |                |\n",
    "\n",
    "Tabla `hub_time`:\n",
    "\n",
    "| hashkey_time | time_id | load_timestamp |\n",
    "|--------------|---------|----------------|\n",
    "|              |         |                |\n",
    "\n",
    "Tabla `hub_address`:\n",
    "\n",
    "| hashkey_address | address_id | load_timestamp |\n",
    "|-----------------|------------|----------------|\n",
    "|                 |            |                |\n",
    "\n",
    "Tabla `hub_transaction`:\n",
    "\n",
    "| hashkey_transaction | transaction_id | load_timestamp |\n",
    "|---------------------|----------------|----------------|\n",
    "|                     |                |                |\n",
    "\n",
    "Tabla `sat_customer`:\n",
    "\n",
    "| hashkey_customer | customer_first_name | customer_last_name | customer_credit_card_number | customer_gender | customer_job | customer_date_of_birth  load_timestamp |\n",
    "|------------------|---------------------|--------------------|-----------------------------|-----------------|--------------|-------------------------|--------------|\n",
    "|                  |                     |                    |                             |                 |              |                         |              |\n",
    "\n",
    "Tabla `sat_merchant`:\n",
    "\n",
    "| hashkey_merchant | merchant_name | merchant_category | merchant_lat | merchant_long | load_timestamp |\n",
    "|------------------|---------------|-------------------|--------------|---------------|----------------|\n",
    "|                  |               |                   |              |               |                |\n",
    "\n",
    "Tabla `sat_time`:\n",
    "\n",
    "| hashkey_time | time_day | time_month | time_quarter | time_year | time_hour | load_timestamp |\n",
    "|--------------|----------|------------|--------------|-----------|-----------|----------------|\n",
    "|              |          |            |              |           |           |                |\n",
    "\n",
    "Tabla `sat_address`:\n",
    "\n",
    "| hashkey_address | address_street | address_city_name | address_state | address_zip | address_lat | address_long | address_city_population | load_timestamp |\n",
    "|-----------------|----------------|-------------------|---------------|-------------|-------------|--------------|-------------------------|----------------|\n",
    "|                 |                |                   |               |             |             |              |                         |                |\n",
    "\n",
    "Tabla `sat_transaction`:\n",
    "\n",
    "| hashkey_transaction | transaction_amount | transaction_is_fraud | load_timestamp |\n",
    "|---------------------|--------------------|----------------------|----------------|\n",
    "|                     |                    |                      |                |\n",
    "\n",
    "Tabla `link_customer`:\n",
    "\n",
    "| hashkey_link_customer | hashkey_customer | hashkey_address | load_timestamp |\n",
    "|-----------------------|------------------|-----------------|----------------|\n",
    "|                       |                  |                 |                |\n",
    "\n",
    "Tabla `link_transaction`:\n",
    "\n",
    "| hashkey_link_transaction | hashkey_transaction | hashkey_merchant | hashkey_time | hashkey_customer | load_timestamp |\n",
    "|--------------------------|---------------------|------------------|--------------|------------------|----------------|\n",
    "|                          |                     |                  |              |                  |                |\n",
    "\n",
    "\n",
    "\n",
    "Vamos a crear la tabla `hub_customer` a partir de la tabla `customer`:\n",
    "\n",
    "Para crear el hashkey, vamos a utilizar la funcion `md5` de PostgreSQL. Esta funcion recibe un string y retorna un hash de 32 caracteres. Para mas informacion, revisar la documentacion de PostgreSQL: https://www.postgresql.org/docs/9.1/functions-string.html\n",
    "\n",
    "Para obtener el load_timestamp, vamos a utilizar la funcion `now()` de PostgreSQL. Esta funcion retorna la fecha y hora actual. Para mas informacion, revisar la documentacion de PostgreSQL: https://www.postgresql.org/docs/9.1/functions-datetime.html\n",
    "\n",
    "Creamos las tablas dimensionales restantes y la tabla de fact.\n",
    "**Atencion-1:** La tablas de hub deben tener llaves primarias y verificar que los tipos de datos sean correctos. Anadir claves foraneas donde sea necesario.\n",
    "**Atencion-2:** Mostrar las primeras 5 filas de cada tabla. Usen el comando `pd.read_sql_table('table_name', conn).head(5)`\n",
    "**Atencion-3:** La tabla de sat debe tener llaves foraneas a las tablas de hub correspondientes. Las tablas link tienen como primary key la concatenacion de las llaves foraneas de las tablas hub correspondientes.\n"
   ],
   "metadata": {
    "collapsed": false,
    "pycharm": {
     "name": "#%% md\n"
    }
   }
  },
  {
   "cell_type": "code",
   "execution_count": 22,
   "outputs": [
    {
     "data": {
      "text/plain": "<sqlalchemy.engine.cursor.CursorResult at 0x7f1ad55a16c0>"
     },
     "execution_count": 22,
     "metadata": {},
     "output_type": "execute_result"
    }
   ],
   "source": [
    "sql = text(\"\"\"\n",
    "CREATE TABLE hub_customer AS (\n",
    "SELECT\n",
    "    md5(cust_id::text) AS hashkey_customer,\n",
    "    cust_id AS customer_id,\n",
    "    now() AS load_timestamp\n",
    "FROM customer)\n",
    "\"\"\")\n",
    "conn.execute(sql)"
   ],
   "metadata": {
    "collapsed": false,
    "pycharm": {
     "name": "#%%\n"
    }
   }
  },
  {
   "cell_type": "code",
   "execution_count": 24,
   "outputs": [
    {
     "data": {
      "text/plain": "<sqlalchemy.engine.cursor.CursorResult at 0x7f1ad5e3e5c0>"
     },
     "execution_count": 24,
     "metadata": {},
     "output_type": "execute_result"
    }
   ],
   "source": [
    "# Modificamos la tabla hub_customer para agregar la llave primaria y verificar que los tipos de datos sean correctos\n",
    "sql = text(\"\"\"\n",
    "ALTER TABLE hub_customer\n",
    "ADD COLUMN hub_customer_id SERIAL PRIMARY KEY,\n",
    "ALTER COLUMN customer_id TYPE VARCHAR(255),\n",
    "ALTER COLUMN load_timestamp TYPE TIMESTAMP\n",
    "\"\"\")\n",
    "conn.execute(sql)"
   ],
   "metadata": {
    "collapsed": false,
    "pycharm": {
     "name": "#%%\n"
    }
   }
  },
  {
   "cell_type": "code",
   "execution_count": 25,
   "outputs": [
    {
     "data": {
      "text/plain": "                   hashkey_customer customer_id             load_timestamp  \\\n0  c4ca4238a0b923820dcc509a6f75849b           1 2023-11-17 16:16:08.573100   \n1  ca9c267dad0305d1a6308d2a0cf1c39c         679 2023-11-17 16:16:08.573100   \n2  c73dfe6c630edb4c1692db67c510f65c        1348 2023-11-17 16:16:08.573100   \n3  af5afd7f7c807171981d443ad4f4f648        1576 2023-11-17 16:16:08.573100   \n4  bf201d5407a6509fa536afc4b380577e        1791 2023-11-17 16:16:08.573100   \n\n   hub_customer_id  \n0                1  \n1                2  \n2                3  \n3                4  \n4                5  ",
      "text/html": "<div>\n<style scoped>\n    .dataframe tbody tr th:only-of-type {\n        vertical-align: middle;\n    }\n\n    .dataframe tbody tr th {\n        vertical-align: top;\n    }\n\n    .dataframe thead th {\n        text-align: right;\n    }\n</style>\n<table border=\"1\" class=\"dataframe\">\n  <thead>\n    <tr style=\"text-align: right;\">\n      <th></th>\n      <th>hashkey_customer</th>\n      <th>customer_id</th>\n      <th>load_timestamp</th>\n      <th>hub_customer_id</th>\n    </tr>\n  </thead>\n  <tbody>\n    <tr>\n      <th>0</th>\n      <td>c4ca4238a0b923820dcc509a6f75849b</td>\n      <td>1</td>\n      <td>2023-11-17 16:16:08.573100</td>\n      <td>1</td>\n    </tr>\n    <tr>\n      <th>1</th>\n      <td>ca9c267dad0305d1a6308d2a0cf1c39c</td>\n      <td>679</td>\n      <td>2023-11-17 16:16:08.573100</td>\n      <td>2</td>\n    </tr>\n    <tr>\n      <th>2</th>\n      <td>c73dfe6c630edb4c1692db67c510f65c</td>\n      <td>1348</td>\n      <td>2023-11-17 16:16:08.573100</td>\n      <td>3</td>\n    </tr>\n    <tr>\n      <th>3</th>\n      <td>af5afd7f7c807171981d443ad4f4f648</td>\n      <td>1576</td>\n      <td>2023-11-17 16:16:08.573100</td>\n      <td>4</td>\n    </tr>\n    <tr>\n      <th>4</th>\n      <td>bf201d5407a6509fa536afc4b380577e</td>\n      <td>1791</td>\n      <td>2023-11-17 16:16:08.573100</td>\n      <td>5</td>\n    </tr>\n  </tbody>\n</table>\n</div>"
     },
     "execution_count": 25,
     "metadata": {},
     "output_type": "execute_result"
    }
   ],
   "source": [
    "pd.read_sql_table('hub_customer', conn).head(5)"
   ],
   "metadata": {
    "collapsed": false,
    "pycharm": {
     "name": "#%%\n"
    }
   }
  },
  {
   "cell_type": "markdown",
   "source": [
    "Crear las tablas hub, link y sat restantes."
   ],
   "metadata": {
    "collapsed": false,
    "pycharm": {
     "name": "#%% md\n"
    }
   }
  },
  {
   "cell_type": "code",
   "execution_count": null,
   "outputs": [],
   "source": [
    "\"\"\"Your answer here\"\"\""
   ],
   "metadata": {
    "collapsed": false,
    "pycharm": {
     "name": "#%%\n"
    }
   }
  },
  {
   "cell_type": "markdown",
   "source": [
    "## 4. Consultas"
   ],
   "metadata": {
    "collapsed": false,
    "pycharm": {
     "name": "#%% md\n"
    }
   }
  },
  {
   "cell_type": "markdown",
   "source": [
    "### 4.1. ¿Cuál es el monto promedio de transacciones por mes?"
   ],
   "metadata": {
    "collapsed": false,
    "pycharm": {
     "name": "#%% md\n"
    }
   }
  },
  {
   "cell_type": "code",
   "execution_count": null,
   "outputs": [],
   "source": [
    "# Consulta 1\n",
    "query = text(\"\"\"\n",
    "SELECT\n",
    "    month,\n",
    "    AVG(amount) AS avg_amount\n",
    "FROM fact_transaction\n",
    "JOIN labo.dim_time USING (time_id)\n",
    "GROUP BY month\n",
    "ORDER BY month\n",
    "\"\"\")\n",
    "df = pd.read_sql_query(query, conn)\n",
    "df"
   ],
   "metadata": {
    "collapsed": false,
    "pycharm": {
     "name": "#%%\n",
     "is_executing": true
    }
   }
  },
  {
   "cell_type": "code",
   "execution_count": 31,
   "outputs": [
    {
     "data": {
      "text/plain": "<AxesSubplot: title={'center': 'Monto promedio de transacciones por mes'}, xlabel='month'>"
     },
     "execution_count": 31,
     "metadata": {},
     "output_type": "execute_result"
    },
    {
     "data": {
      "text/plain": "<Figure size 1000x500 with 1 Axes>",
      "image/png": "[encoded data removed]"
     },
     "metadata": {},
     "output_type": "display_data"
    }
   ],
   "source": [
    "# Grafico 1\n",
    "df.plot(x='month', y='avg_amount', kind='bar', title='Monto promedio de transacciones por mes', figsize=(10, 5))"
   ],
   "metadata": {
    "collapsed": false,
    "pycharm": {
     "name": "#%%\n"
    }
   }
  },
  {
   "cell_type": "markdown",
   "source": [
    "### 4.2. ¿Cuál es el monto promedio de transacciones por mes y por género?"
   ],
   "metadata": {
    "collapsed": false,
    "pycharm": {
     "name": "#%% md\n"
    }
   }
  },
  {
   "cell_type": "code",
   "execution_count": null,
   "outputs": [],
   "source": [],
   "metadata": {
    "collapsed": false,
    "pycharm": {
     "name": "#%%\n"
    }
   }
  },
  {
   "cell_type": "markdown",
   "source": [
    "### 4.3. ¿Cuál es el monto promedio de transacciones por mes y por género y por ciudad?"
   ],
   "metadata": {
    "collapsed": false,
    "pycharm": {
     "name": "#%% md\n"
    }
   }
  },
  {
   "cell_type": "code",
   "execution_count": null,
   "outputs": [],
   "source": [],
   "metadata": {
    "collapsed": false,
    "pycharm": {
     "name": "#%%\n"
    }
   }
  },
  {
   "cell_type": "markdown",
   "source": [
    "### 4.4. ¿Cuál es el porcentaje de transacciones fraudulentas por mes? Mostrar el mes y el porcentaje de transacciones fraudulentas."
   ],
   "metadata": {
    "collapsed": false,
    "pycharm": {
     "name": "#%% md\n"
    }
   }
  },
  {
   "cell_type": "code",
   "execution_count": 31,
   "outputs": [],
   "source": [],
   "metadata": {
    "collapsed": false,
    "pycharm": {
     "name": "#%%\n"
    }
   }
  },
  {
   "cell_type": "markdown",
   "source": [
    "### 4.5 ¿Cuál es el género más susceptible a transacciones fraudulentas? Mostrar el género y el porcentaje de transacciones fraudulentas."
   ],
   "metadata": {
    "collapsed": false,
    "pycharm": {
     "name": "#%% md\n"
    }
   }
  },
  {
   "cell_type": "code",
   "execution_count": null,
   "outputs": [],
   "source": [],
   "metadata": {
    "collapsed": false,
    "pycharm": {
     "name": "#%%\n"
    }
   }
  },
  {
   "cell_type": "markdown",
   "source": [
    "### 4.6. ¿Cuál es el porcentaje de transacciones fraudulentas por tienda? Muestre las 10 tiendas con mayor porcentaje de transacciones fraudulentas. Mostrar el nombre de la tienda, la categoría y el porcentaje de transacciones fraudulentas."
   ],
   "metadata": {
    "collapsed": false,
    "pycharm": {
     "name": "#%% md\n"
    }
   }
  },
  {
   "cell_type": "code",
   "execution_count": null,
   "outputs": [],
   "source": [],
   "metadata": {
    "collapsed": false,
    "pycharm": {
     "name": "#%%\n"
    }
   }
  },
  {
   "cell_type": "markdown",
   "source": [
    "### 4.7 ¿Cuál es la categoria de tienda con mayor cantidad de transacciones fraudulentas?. Mostrar el nombre de la categoria y la cantidad de transacciones fraudulentas. Mostrar SOLO la categoria con mayor cantidad de transacciones fraudulentas."
   ],
   "metadata": {
    "collapsed": false,
    "pycharm": {
     "name": "#%% md\n"
    }
   }
  },
  {
   "cell_type": "code",
   "execution_count": null,
   "outputs": [],
   "source": [],
   "metadata": {
    "collapsed": false,
    "pycharm": {
     "name": "#%%\n"
    }
   }
  },
  {
   "cell_type": "markdown",
   "source": [
    "### 4.8 ¿Cuál es el monto promedio de las transacciones fraudulentas por mes? Mostrar el monto promedio y el mes."
   ],
   "metadata": {
    "collapsed": false,
    "pycharm": {
     "name": "#%% md\n"
    }
   }
  },
  {
   "cell_type": "code",
   "execution_count": null,
   "outputs": [],
   "source": [],
   "metadata": {
    "collapsed": false,
    "pycharm": {
     "name": "#%%\n"
    }
   }
  },
  {
   "cell_type": "markdown",
   "source": [
    "### 4.9 ¿Cuál es el cliente que más transacciones fraudulentas realizó? Mostrar el nombre del cliente y la cantidad de transacciones fraudulentas."
   ],
   "metadata": {
    "collapsed": false,
    "pycharm": {
     "name": "#%% md\n"
    }
   }
  },
  {
   "cell_type": "code",
   "execution_count": null,
   "outputs": [],
   "source": [],
   "metadata": {
    "collapsed": false,
    "pycharm": {
     "name": "#%%\n"
    }
   }
  }
 ],
 "metadata": {
  "kernelspec": {
   "display_name": "Python 3",
   "language": "python",
   "name": "python3"
  },
  "language_info": {
   "codemirror_mode": {
    "name": "ipython",
    "version": 2
   },
   "file_extension": ".py",
   "mimetype": "text/x-python",
   "name": "python",
   "nbconvert_exporter": "python",
   "pygments_lexer": "ipython2",
   "version": "2.7.6"
  }
 },
 "nbformat": 4,
 "nbformat_minor": 0
}